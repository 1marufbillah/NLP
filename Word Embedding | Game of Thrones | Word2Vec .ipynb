{
 "cells": [
  {
   "cell_type": "markdown",
   "id": "f69ec9fc",
   "metadata": {},
   "source": [
    "<!-- from nltk import sent_tokenize\n",
    "from gensim.utils import simple_preprocess\n",
    "\n",
    "story = []\n",
    "\n",
    "for filename in os.listdir('GOT'):\n",
    "    with open(os.path.join('GOT', filename), encoding='latin-1') as file:\n",
    "        corpus = file.read()\n",
    "        raw_sent = sent_tokenize(corpus)\n",
    "        for sent in raw_sent:\n",
    "            story.append(simple_preprocess(sent)) -->"
   ]
  },
  {
   "cell_type": "code",
   "execution_count": 83,
   "id": "4bb8927b",
   "metadata": {},
   "outputs": [],
   "source": [
    "from nltk.corpus import stopwords\n",
    "from nltk import sent_tokenize\n",
    "from gensim.utils import simple_preprocess\n",
    "import os\n",
    "\n",
    "# nltk.download('punkt')\n",
    "# nltk.download('stopwords')\n",
    "\n",
    "stopwords_list = set(stopwords.words('english'))\n",
    "\n",
    "story = []\n",
    "\n",
    "for filename in os.listdir('GOT'):\n",
    "    with open(os.path.join('GOT', filename), encoding='latin-1') as file:\n",
    "        corpus = file.read()\n",
    "        raw_sent = sent_tokenize(corpus)\n",
    "        for sent in raw_sent:\n",
    "            filtered_sent = [word for word in simple_preprocess(sent) if word.lower() not in stopwords_list]\n",
    "            story.append(filtered_sent)\n",
    "\n",
    "# story"
   ]
  },
  {
   "cell_type": "code",
   "execution_count": 84,
   "id": "6a0b4625",
   "metadata": {},
   "outputs": [
    {
     "data": {
      "text/plain": [
       "141219"
      ]
     },
     "execution_count": 84,
     "metadata": {},
     "output_type": "execute_result"
    }
   ],
   "source": [
    "len(story)"
   ]
  },
  {
   "cell_type": "code",
   "execution_count": 63,
   "id": "f1f1b708",
   "metadata": {},
   "outputs": [
    {
     "data": {
      "text/plain": [
       "(4396920, 4579450)"
      ]
     },
     "execution_count": 63,
     "metadata": {},
     "output_type": "execute_result"
    }
   ],
   "source": [
    "from gensim.models import Word2Vec\n",
    "\n",
    "model = Word2Vec(window=10, min_count=2, workers=4)\n",
    "model.build_vocab(story)\n",
    "model.train(story, total_examples=model.corpus_count, epochs=model.epochs)"
   ]
  },
  {
   "cell_type": "code",
   "execution_count": 64,
   "id": "856bd936",
   "metadata": {},
   "outputs": [
    {
     "data": {
      "text/plain": [
       "[('stormborn', 0.9230729937553406),\n",
       " ('unburnt', 0.8967097401618958),\n",
       " ('viserys', 0.8319110870361328),\n",
       " ('targaryen', 0.8220386505126953),\n",
       " ('myrcella', 0.8171222805976868),\n",
       " ('queen', 0.81382155418396),\n",
       " ('elia', 0.8134568929672241),\n",
       " ('regent', 0.8066622018814087),\n",
       " ('dorne', 0.8051762580871582),\n",
       " ('loraq', 0.8040689826011658)]"
      ]
     },
     "execution_count": 64,
     "metadata": {},
     "output_type": "execute_result"
    }
   ],
   "source": [
    "model.wv.most_similar('daenerys')"
   ]
  },
  {
   "cell_type": "code",
   "execution_count": 65,
   "id": "90ef7ae8",
   "metadata": {},
   "outputs": [
    {
     "data": {
      "text/plain": [
       "'jon'"
      ]
     },
     "execution_count": 65,
     "metadata": {},
     "output_type": "execute_result"
    }
   ],
   "source": [
    "model.wv.doesnt_match(['jon', 'rikon', 'robb', 'arya', 'sansa', 'bran'])"
   ]
  },
  {
   "cell_type": "code",
   "execution_count": 66,
   "id": "6208559d",
   "metadata": {},
   "outputs": [
    {
     "data": {
      "text/plain": [
       "'bronn'"
      ]
     },
     "execution_count": 66,
     "metadata": {},
     "output_type": "execute_result"
    }
   ],
   "source": [
    "model.wv.doesnt_match(['cersei', 'jaime', 'bronn', 'tyrion'])"
   ]
  },
  {
   "cell_type": "code",
   "execution_count": 67,
   "id": "7cfbc6df",
   "metadata": {},
   "outputs": [
    {
     "data": {
      "text/plain": [
       "(100,)"
      ]
     },
     "execution_count": 67,
     "metadata": {},
     "output_type": "execute_result"
    }
   ],
   "source": [
    "model.wv['king'].shape"
   ]
  },
  {
   "cell_type": "code",
   "execution_count": 68,
   "id": "157d273a",
   "metadata": {},
   "outputs": [
    {
     "data": {
      "text/plain": [
       "0.8037946"
      ]
     },
     "execution_count": 68,
     "metadata": {},
     "output_type": "execute_result"
    }
   ],
   "source": [
    "model.wv.similarity('arya', 'sansa')"
   ]
  },
  {
   "cell_type": "code",
   "execution_count": 69,
   "id": "bb046b1b",
   "metadata": {},
   "outputs": [
    {
     "data": {
      "text/plain": [
       "0.6809444"
      ]
     },
     "execution_count": 69,
     "metadata": {},
     "output_type": "execute_result"
    }
   ],
   "source": [
    "model.wv.similarity('cersei', 'sansa')"
   ]
  },
  {
   "cell_type": "code",
   "execution_count": 70,
   "id": "a5fca6cd",
   "metadata": {},
   "outputs": [
    {
     "data": {
      "text/plain": [
       "0.31701714"
      ]
     },
     "execution_count": 70,
     "metadata": {},
     "output_type": "execute_result"
    }
   ],
   "source": [
    "model.wv.similarity('tywin', 'sansa')"
   ]
  },
  {
   "cell_type": "code",
   "execution_count": 71,
   "id": "f347b764",
   "metadata": {},
   "outputs": [
    {
     "data": {
      "text/plain": [
       "array([[-0.07374443,  0.09640155,  0.17982861, ..., -0.09102281,\n",
       "        -0.03991833,  0.01211485],\n",
       "       [-0.21365058,  0.06534594,  0.23138341, ..., -0.04650346,\n",
       "        -0.04907113, -0.00413792],\n",
       "       [ 0.04215009,  0.08473474, -0.03237785, ..., -0.03394031,\n",
       "         0.07174751, -0.18726595],\n",
       "       ...,\n",
       "       [ 0.00568629,  0.10225108,  0.11746372, ...,  0.11541904,\n",
       "         0.10824168, -0.13204564],\n",
       "       [-0.14559078,  0.05161754, -0.01633821, ..., -0.00885527,\n",
       "        -0.01107212,  0.00291948],\n",
       "       [-0.18378662,  0.13322134,  0.03311865, ..., -0.033397  ,\n",
       "        -0.01969537, -0.00745804]], dtype=float32)"
      ]
     },
     "execution_count": 71,
     "metadata": {},
     "output_type": "execute_result"
    }
   ],
   "source": [
    "model.wv.get_normed_vectors()"
   ]
  },
  {
   "cell_type": "code",
   "execution_count": 72,
   "id": "08eca0af",
   "metadata": {},
   "outputs": [
    {
     "data": {
      "text/plain": [
       "(17312, 100)"
      ]
     },
     "execution_count": 72,
     "metadata": {},
     "output_type": "execute_result"
    }
   ],
   "source": [
    "model.wv.get_normed_vectors().shape"
   ]
  },
  {
   "cell_type": "code",
   "execution_count": 74,
   "id": "542f09aa",
   "metadata": {},
   "outputs": [],
   "source": [
    "y = model.wv.index_to_key"
   ]
  },
  {
   "cell_type": "code",
   "execution_count": 75,
   "id": "3ce22ce6",
   "metadata": {},
   "outputs": [
    {
     "data": {
      "text/plain": [
       "array([[ 0.5086426 ,  0.01714688, -0.21909519],\n",
       "       [ 0.38209596,  0.5639919 , -0.4028817 ],\n",
       "       [ 0.5248525 , -0.03993364,  0.33437386],\n",
       "       [-0.0323027 ,  0.15026616,  0.02700947],\n",
       "       [ 0.2731328 ,  0.5105973 , -0.5933643 ]], dtype=float32)"
      ]
     },
     "execution_count": 75,
     "metadata": {},
     "output_type": "execute_result"
    }
   ],
   "source": [
    "from sklearn.decomposition import PCA\n",
    "\n",
    "pca = PCA(n_components=3)\n",
    "X = pca.fit_transform(model.wv.get_normed_vectors())\n",
    "X[:5]"
   ]
  },
  {
   "cell_type": "code",
   "execution_count": 76,
   "id": "de18ed79",
   "metadata": {},
   "outputs": [
    {
     "data": {
      "text/plain": [
       "(17312, 3)"
      ]
     },
     "execution_count": 76,
     "metadata": {},
     "output_type": "execute_result"
    }
   ],
   "source": [
    "X.shape"
   ]
  },
  {
   "cell_type": "code",
   "execution_count": 82,
   "id": "2184c690",
   "metadata": {},
   "outputs": [
    {
     "data": {
      "application/vnd.plotly.v1+json": {
       "config": {
        "plotlyServerURL": "https://plot.ly"
       },
       "data": [
        {
         "hovertemplate": "color=said<br>0=%{x}<br>1=%{y}<br>2=%{z}<extra></extra>",
         "legendgroup": "said",
         "marker": {
          "color": "#636efa",
          "symbol": "circle"
         },
         "mode": "markers",
         "name": "said",
         "scene": "scene",
         "showlegend": true,
         "type": "scatter3d",
         "x": [
          0.5086426138877869
         ],
         "y": [
          0.0171468835324049
         ],
         "z": [
          -0.21909518539905548
         ]
        },
        {
         "hovertemplate": "color=lord<br>0=%{x}<br>1=%{y}<br>2=%{z}<extra></extra>",
         "legendgroup": "lord",
         "marker": {
          "color": "#EF553B",
          "symbol": "circle"
         },
         "mode": "markers",
         "name": "lord",
         "scene": "scene",
         "showlegend": true,
         "type": "scatter3d",
         "x": [
          0.38209596276283264
         ],
         "y": [
          0.563991904258728
         ],
         "z": [
          -0.4028817117214203
         ]
        },
        {
         "hovertemplate": "color=would<br>0=%{x}<br>1=%{y}<br>2=%{z}<extra></extra>",
         "legendgroup": "would",
         "marker": {
          "color": "#00cc96",
          "symbol": "circle"
         },
         "mode": "markers",
         "name": "would",
         "scene": "scene",
         "showlegend": true,
         "type": "scatter3d",
         "x": [
          0.5248525142669678
         ],
         "y": [
          -0.039933644235134125
         ],
         "z": [
          0.3343738615512848
         ]
        },
        {
         "hovertemplate": "color=one<br>0=%{x}<br>1=%{y}<br>2=%{z}<extra></extra>",
         "legendgroup": "one",
         "marker": {
          "color": "#ab63fa",
          "symbol": "circle"
         },
         "mode": "markers",
         "name": "one",
         "scene": "scene",
         "showlegend": true,
         "type": "scatter3d",
         "x": [
          -0.03230270370841026
         ],
         "y": [
          0.1502661556005478
         ],
         "z": [
          0.027009472250938416
         ]
        },
        {
         "hovertemplate": "color=ser<br>0=%{x}<br>1=%{y}<br>2=%{z}<extra></extra>",
         "legendgroup": "ser",
         "marker": {
          "color": "#FFA15A",
          "symbol": "circle"
         },
         "mode": "markers",
         "name": "ser",
         "scene": "scene",
         "showlegend": true,
         "type": "scatter3d",
         "x": [
          0.2731328010559082
         ],
         "y": [
          0.510597288608551
         ],
         "z": [
          -0.5933642983436584
         ]
        },
        {
         "hovertemplate": "color=could<br>0=%{x}<br>1=%{y}<br>2=%{z}<extra></extra>",
         "legendgroup": "could",
         "marker": {
          "color": "#19d3f3",
          "symbol": "circle"
         },
         "mode": "markers",
         "name": "could",
         "scene": "scene",
         "showlegend": true,
         "type": "scatter3d",
         "x": [
          0.025404131039977074
         ],
         "y": [
          -0.109280064702034
         ],
         "z": [
          0.2642192542552948
         ]
        },
        {
         "hovertemplate": "color=man<br>0=%{x}<br>1=%{y}<br>2=%{z}<extra></extra>",
         "legendgroup": "man",
         "marker": {
          "color": "#FF6692",
          "symbol": "circle"
         },
         "mode": "markers",
         "name": "man",
         "scene": "scene",
         "showlegend": true,
         "type": "scatter3d",
         "x": [
          0.04572654888033867
         ],
         "y": [
          0.09640016406774521
         ],
         "z": [
          -0.1772339940071106
         ]
        },
        {
         "hovertemplate": "color=king<br>0=%{x}<br>1=%{y}<br>2=%{z}<extra></extra>",
         "legendgroup": "king",
         "marker": {
          "color": "#B6E880",
          "symbol": "circle"
         },
         "mode": "markers",
         "name": "king",
         "scene": "scene",
         "showlegend": true,
         "type": "scatter3d",
         "x": [
          0.3602827489376068
         ],
         "y": [
          0.5212996602058411
         ],
         "z": [
          -0.1517428159713745
         ]
        },
        {
         "hovertemplate": "color=men<br>0=%{x}<br>1=%{y}<br>2=%{z}<extra></extra>",
         "legendgroup": "men",
         "marker": {
          "color": "#FF97FF",
          "symbol": "circle"
         },
         "mode": "markers",
         "name": "men",
         "scene": "scene",
         "showlegend": true,
         "type": "scatter3d",
         "x": [
          0.07369016855955124
         ],
         "y": [
          0.5503657460212708
         ],
         "z": [
          0.2843652367591858
         ]
        },
        {
         "hovertemplate": "color=back<br>0=%{x}<br>1=%{y}<br>2=%{z}<extra></extra>",
         "legendgroup": "back",
         "marker": {
          "color": "#FECB52",
          "symbol": "circle"
         },
         "mode": "markers",
         "name": "back",
         "scene": "scene",
         "showlegend": true,
         "type": "scatter3d",
         "x": [
          -0.23003067076206207
         ],
         "y": [
          0.04555872455239296
         ],
         "z": [
          -0.025836609303951263
         ]
        },
        {
         "hovertemplate": "color=well<br>0=%{x}<br>1=%{y}<br>2=%{z}<extra></extra>",
         "legendgroup": "well",
         "marker": {
          "color": "#636efa",
          "symbol": "circle"
         },
         "mode": "markers",
         "name": "well",
         "scene": "scene",
         "showlegend": true,
         "type": "scatter3d",
         "x": [
          0.4859897196292877
         ],
         "y": [
          0.21132563054561615
         ],
         "z": [
          0.15788571536540985
         ]
        },
        {
         "hovertemplate": "color=like<br>0=%{x}<br>1=%{y}<br>2=%{z}<extra></extra>",
         "legendgroup": "like",
         "marker": {
          "color": "#EF553B",
          "symbol": "circle"
         },
         "mode": "markers",
         "name": "like",
         "scene": "scene",
         "showlegend": true,
         "type": "scatter3d",
         "x": [
          -0.23102639615535736
         ],
         "y": [
          -0.1310635507106781
         ],
         "z": [
          0.2189541608095169
         ]
        },
        {
         "hovertemplate": "color=jon<br>0=%{x}<br>1=%{y}<br>2=%{z}<extra></extra>",
         "legendgroup": "jon",
         "marker": {
          "color": "#00cc96",
          "symbol": "circle"
         },
         "mode": "markers",
         "name": "jon",
         "scene": "scene",
         "showlegend": true,
         "type": "scatter3d",
         "x": [
          0.011249946430325508
         ],
         "y": [
          0.007650867570191622
         ],
         "z": [
          -0.1040433719754219
         ]
        },
        {
         "hovertemplate": "color=father<br>0=%{x}<br>1=%{y}<br>2=%{z}<extra></extra>",
         "legendgroup": "father",
         "marker": {
          "color": "#ab63fa",
          "symbol": "circle"
         },
         "mode": "markers",
         "name": "father",
         "scene": "scene",
         "showlegend": true,
         "type": "scatter3d",
         "x": [
          0.6134951114654541
         ],
         "y": [
          0.3272702097892761
         ],
         "z": [
          -0.15117447078227997
         ]
        },
        {
         "hovertemplate": "color=old<br>0=%{x}<br>1=%{y}<br>2=%{z}<extra></extra>",
         "legendgroup": "old",
         "marker": {
          "color": "#FFA15A",
          "symbol": "circle"
         },
         "mode": "markers",
         "name": "old",
         "scene": "scene",
         "showlegend": true,
         "type": "scatter3d",
         "x": [
          0.0037848392967134714
         ],
         "y": [
          0.2879205644130707
         ],
         "z": [
          -0.05725901946425438
         ]
        },
        {
         "hovertemplate": "color=hand<br>0=%{x}<br>1=%{y}<br>2=%{z}<extra></extra>",
         "legendgroup": "hand",
         "marker": {
          "color": "#19d3f3",
          "symbol": "circle"
         },
         "mode": "markers",
         "name": "hand",
         "scene": "scene",
         "showlegend": true,
         "type": "scatter3d",
         "x": [
          -0.12869927287101746
         ],
         "y": [
          0.08630090206861496
         ],
         "z": [
          -0.3818463981151581
         ]
        },
        {
         "hovertemplate": "color=even<br>0=%{x}<br>1=%{y}<br>2=%{z}<extra></extra>",
         "legendgroup": "even",
         "marker": {
          "color": "#FF6692",
          "symbol": "circle"
         },
         "mode": "markers",
         "name": "even",
         "scene": "scene",
         "showlegend": true,
         "type": "scatter3d",
         "x": [
          0.12444578856229782
         ],
         "y": [
          -0.029824573546648026
         ],
         "z": [
          0.4443642199039459
         ]
        },
        {
         "hovertemplate": "color=tyrion<br>0=%{x}<br>1=%{y}<br>2=%{z}<extra></extra>",
         "legendgroup": "tyrion",
         "marker": {
          "color": "#B6E880",
          "symbol": "circle"
         },
         "mode": "markers",
         "name": "tyrion",
         "scene": "scene",
         "showlegend": true,
         "type": "scatter3d",
         "x": [
          0.08295277506113052
         ],
         "y": [
          -0.20614875853061676
         ],
         "z": [
          -0.27338239550590515
         ]
        },
        {
         "hovertemplate": "color=never<br>0=%{x}<br>1=%{y}<br>2=%{z}<extra></extra>",
         "legendgroup": "never",
         "marker": {
          "color": "#FF97FF",
          "symbol": "circle"
         },
         "mode": "markers",
         "name": "never",
         "scene": "scene",
         "showlegend": true,
         "type": "scatter3d",
         "x": [
          0.4274534285068512
         ],
         "y": [
          -0.15862931311130524
         ],
         "z": [
          0.1550469696521759
         ]
        },
        {
         "hovertemplate": "color=see<br>0=%{x}<br>1=%{y}<br>2=%{z}<extra></extra>",
         "legendgroup": "see",
         "marker": {
          "color": "#FECB52",
          "symbol": "circle"
         },
         "mode": "markers",
         "name": "see",
         "scene": "scene",
         "showlegend": true,
         "type": "scatter3d",
         "x": [
          0.05050661787390709
         ],
         "y": [
          -0.018805762752890587
         ],
         "z": [
          0.1676618456840515
         ]
        },
        {
         "hovertemplate": "color=know<br>0=%{x}<br>1=%{y}<br>2=%{z}<extra></extra>",
         "legendgroup": "know",
         "marker": {
          "color": "#636efa",
          "symbol": "circle"
         },
         "mode": "markers",
         "name": "know",
         "scene": "scene",
         "showlegend": true,
         "type": "scatter3d",
         "x": [
          0.6658710837364197
         ],
         "y": [
          -0.06935469061136246
         ],
         "z": [
          0.23922868072986603
         ]
        },
        {
         "hovertemplate": "color=made<br>0=%{x}<br>1=%{y}<br>2=%{z}<extra></extra>",
         "legendgroup": "made",
         "marker": {
          "color": "#EF553B",
          "symbol": "circle"
         },
         "mode": "markers",
         "name": "made",
         "scene": "scene",
         "showlegend": true,
         "type": "scatter3d",
         "x": [
          -0.09974817931652069
         ],
         "y": [
          -0.0818927213549614
         ],
         "z": [
          0.1339075267314911
         ]
        },
        {
         "hovertemplate": "color=eyes<br>0=%{x}<br>1=%{y}<br>2=%{z}<extra></extra>",
         "legendgroup": "eyes",
         "marker": {
          "color": "#00cc96",
          "symbol": "circle"
         },
         "mode": "markers",
         "name": "eyes",
         "scene": "scene",
         "showlegend": true,
         "type": "scatter3d",
         "x": [
          -0.2618624269962311
         ],
         "y": [
          -0.17617502808570862
         ],
         "z": [
          -0.1973174810409546
         ]
        },
        {
         "hovertemplate": "color=black<br>0=%{x}<br>1=%{y}<br>2=%{z}<extra></extra>",
         "legendgroup": "black",
         "marker": {
          "color": "#ab63fa",
          "symbol": "circle"
         },
         "mode": "markers",
         "name": "black",
         "scene": "scene",
         "showlegend": true,
         "type": "scatter3d",
         "x": [
          -0.42272019386291504
         ],
         "y": [
          0.4298659563064575
         ],
         "z": [
          -0.07437160611152649
         ]
        },
        {
         "hovertemplate": "color=told<br>0=%{x}<br>1=%{y}<br>2=%{z}<extra></extra>",
         "legendgroup": "told",
         "marker": {
          "color": "#FFA15A",
          "symbol": "circle"
         },
         "mode": "markers",
         "name": "told",
         "scene": "scene",
         "showlegend": true,
         "type": "scatter3d",
         "x": [
          0.5000473856925964
         ],
         "y": [
          -0.004875492304563522
         ],
         "z": [
          0.08102923631668091
         ]
        },
        {
         "hovertemplate": "color=lady<br>0=%{x}<br>1=%{y}<br>2=%{z}<extra></extra>",
         "legendgroup": "lady",
         "marker": {
          "color": "#19d3f3",
          "symbol": "circle"
         },
         "mode": "markers",
         "name": "lady",
         "scene": "scene",
         "showlegend": true,
         "type": "scatter3d",
         "x": [
          0.43346425890922546
         ],
         "y": [
          0.3761290907859802
         ],
         "z": [
          -0.5277085304260254
         ]
        },
        {
         "hovertemplate": "color=thought<br>0=%{x}<br>1=%{y}<br>2=%{z}<extra></extra>",
         "legendgroup": "thought",
         "marker": {
          "color": "#FF6692",
          "symbol": "circle"
         },
         "mode": "markers",
         "name": "thought",
         "scene": "scene",
         "showlegend": true,
         "type": "scatter3d",
         "x": [
          0.2791826128959656
         ],
         "y": [
          -0.1834266632795334
         ],
         "z": [
          0.17444159090518951
         ]
        },
        {
         "hovertemplate": "color=time<br>0=%{x}<br>1=%{y}<br>2=%{z}<extra></extra>",
         "legendgroup": "time",
         "marker": {
          "color": "#B6E880",
          "symbol": "circle"
         },
         "mode": "markers",
         "name": "time",
         "scene": "scene",
         "showlegend": true,
         "type": "scatter3d",
         "x": [
          0.012921031564474106
         ],
         "y": [
          -0.0018580964533612132
         ],
         "z": [
          0.2055206000804901
         ]
        },
        {
         "hovertemplate": "color=long<br>0=%{x}<br>1=%{y}<br>2=%{z}<extra></extra>",
         "legendgroup": "long",
         "marker": {
          "color": "#FF97FF",
          "symbol": "circle"
         },
         "mode": "markers",
         "name": "long",
         "scene": "scene",
         "showlegend": true,
         "type": "scatter3d",
         "x": [
          -0.2960066795349121
         ],
         "y": [
          0.270447313785553
         ],
         "z": [
          0.2414502054452896
         ]
        },
        {
         "hovertemplate": "color=might<br>0=%{x}<br>1=%{y}<br>2=%{z}<extra></extra>",
         "legendgroup": "might",
         "marker": {
          "color": "#FECB52",
          "symbol": "circle"
         },
         "mode": "markers",
         "name": "might",
         "scene": "scene",
         "showlegend": true,
         "type": "scatter3d",
         "x": [
          0.5877695679664612
         ],
         "y": [
          -0.041807837784290314
         ],
         "z": [
          0.25504016876220703
         ]
        },
        {
         "hovertemplate": "color=us<br>0=%{x}<br>1=%{y}<br>2=%{z}<extra></extra>",
         "legendgroup": "us",
         "marker": {
          "color": "#636efa",
          "symbol": "circle"
         },
         "mode": "markers",
         "name": "us",
         "scene": "scene",
         "showlegend": true,
         "type": "scatter3d",
         "x": [
          0.5352425575256348
         ],
         "y": [
          0.2166939079761505
         ],
         "z": [
          0.29552343487739563
         ]
        },
        {
         "hovertemplate": "color=come<br>0=%{x}<br>1=%{y}<br>2=%{z}<extra></extra>",
         "legendgroup": "come",
         "marker": {
          "color": "#EF553B",
          "symbol": "circle"
         },
         "mode": "markers",
         "name": "come",
         "scene": "scene",
         "showlegend": true,
         "type": "scatter3d",
         "x": [
          0.36999931931495667
         ],
         "y": [
          0.17347128689289093
         ],
         "z": [
          0.4560982286930084
         ]
        },
        {
         "hovertemplate": "color=still<br>0=%{x}<br>1=%{y}<br>2=%{z}<extra></extra>",
         "legendgroup": "still",
         "marker": {
          "color": "#00cc96",
          "symbol": "circle"
         },
         "mode": "markers",
         "name": "still",
         "scene": "scene",
         "showlegend": true,
         "type": "scatter3d",
         "x": [
          -0.11676967144012451
         ],
         "y": [
          0.10264933109283447
         ],
         "z": [
          0.3548011779785156
         ]
        },
        {
         "hovertemplate": "color=face<br>0=%{x}<br>1=%{y}<br>2=%{z}<extra></extra>",
         "legendgroup": "face",
         "marker": {
          "color": "#ab63fa",
          "symbol": "circle"
         },
         "mode": "markers",
         "name": "face",
         "scene": "scene",
         "showlegend": true,
         "type": "scatter3d",
         "x": [
          -0.35446181893348694
         ],
         "y": [
          -0.2634113132953644
         ],
         "z": [
          -0.3603963255882263
         ]
        },
        {
         "hovertemplate": "color=head<br>0=%{x}<br>1=%{y}<br>2=%{z}<extra></extra>",
         "legendgroup": "head",
         "marker": {
          "color": "#FFA15A",
          "symbol": "circle"
         },
         "mode": "markers",
         "name": "head",
         "scene": "scene",
         "showlegend": true,
         "type": "scatter3d",
         "x": [
          -0.3314536511898041
         ],
         "y": [
          -0.061573635786771774
         ],
         "z": [
          -0.49895453453063965
         ]
        },
        {
         "hovertemplate": "color=red<br>0=%{x}<br>1=%{y}<br>2=%{z}<extra></extra>",
         "legendgroup": "red",
         "marker": {
          "color": "#19d3f3",
          "symbol": "circle"
         },
         "mode": "markers",
         "name": "red",
         "scene": "scene",
         "showlegend": true,
         "type": "scatter3d",
         "x": [
          -0.3459260165691376
         ],
         "y": [
          0.3403356373310089
         ],
         "z": [
          -0.25472748279571533
         ]
        },
        {
         "hovertemplate": "color=way<br>0=%{x}<br>1=%{y}<br>2=%{z}<extra></extra>",
         "legendgroup": "way",
         "marker": {
          "color": "#FF6692",
          "symbol": "circle"
         },
         "mode": "markers",
         "name": "way",
         "scene": "scene",
         "showlegend": true,
         "type": "scatter3d",
         "x": [
          -0.07351526618003845
         ],
         "y": [
          0.025559011846780777
         ],
         "z": [
          0.3277532756328583
         ]
        },
        {
         "hovertemplate": "color=boy<br>0=%{x}<br>1=%{y}<br>2=%{z}<extra></extra>",
         "legendgroup": "boy",
         "marker": {
          "color": "#B6E880",
          "symbol": "circle"
         },
         "mode": "markers",
         "name": "boy",
         "scene": "scene",
         "showlegend": true,
         "type": "scatter3d",
         "x": [
          0.28176188468933105
         ],
         "y": [
          0.19283592700958252
         ],
         "z": [
          -0.3991622030735016
         ]
        },
        {
         "hovertemplate": "color=page<br>0=%{x}<br>1=%{y}<br>2=%{z}<extra></extra>",
         "legendgroup": "page",
         "marker": {
          "color": "#FF97FF",
          "symbol": "circle"
         },
         "mode": "markers",
         "name": "page",
         "scene": "scene",
         "showlegend": true,
         "type": "scatter3d",
         "x": [
          0.155243381857872
         ],
         "y": [
          0.18392464518547058
         ],
         "z": [
          -0.3080154359340668
         ]
        },
        {
         "hovertemplate": "color=must<br>0=%{x}<br>1=%{y}<br>2=%{z}<extra></extra>",
         "legendgroup": "must",
         "marker": {
          "color": "#FECB52",
          "symbol": "circle"
         },
         "mode": "markers",
         "name": "must",
         "scene": "scene",
         "showlegend": true,
         "type": "scatter3d",
         "x": [
          0.6216719746589661
         ],
         "y": [
          0.06492938846349716
         ],
         "z": [
          0.2758153975009918
         ]
        },
        {
         "hovertemplate": "color=queen<br>0=%{x}<br>1=%{y}<br>2=%{z}<extra></extra>",
         "legendgroup": "queen",
         "marker": {
          "color": "#636efa",
          "symbol": "circle"
         },
         "mode": "markers",
         "name": "queen",
         "scene": "scene",
         "showlegend": true,
         "type": "scatter3d",
         "x": [
          0.47476521134376526
         ],
         "y": [
          0.29902565479278564
         ],
         "z": [
          -0.2646833658218384
         ]
        },
        {
         "hovertemplate": "color=good<br>0=%{x}<br>1=%{y}<br>2=%{z}<extra></extra>",
         "legendgroup": "good",
         "marker": {
          "color": "#EF553B",
          "symbol": "circle"
         },
         "mode": "markers",
         "name": "good",
         "scene": "scene",
         "showlegend": true,
         "type": "scatter3d",
         "x": [
          0.5006382465362549
         ],
         "y": [
          -0.03153096139431
         ],
         "z": [
          0.1290299892425537
         ]
        },
        {
         "hovertemplate": "color=two<br>0=%{x}<br>1=%{y}<br>2=%{z}<extra></extra>",
         "legendgroup": "two",
         "marker": {
          "color": "#00cc96",
          "symbol": "circle"
         },
         "mode": "markers",
         "name": "two",
         "scene": "scene",
         "showlegend": true,
         "type": "scatter3d",
         "x": [
          -0.1777765452861786
         ],
         "y": [
          0.6387853026390076
         ],
         "z": [
          0.06505132466554642
         ]
        },
        {
         "hovertemplate": "color=brother<br>0=%{x}<br>1=%{y}<br>2=%{z}<extra></extra>",
         "legendgroup": "brother",
         "marker": {
          "color": "#ab63fa",
          "symbol": "circle"
         },
         "mode": "markers",
         "name": "brother",
         "scene": "scene",
         "showlegend": true,
         "type": "scatter3d",
         "x": [
          0.5243086814880371
         ],
         "y": [
          0.4468981623649597
         ],
         "z": [
          -0.34518131613731384
         ]
        },
        {
         "hovertemplate": "color=night<br>0=%{x}<br>1=%{y}<br>2=%{z}<extra></extra>",
         "legendgroup": "night",
         "marker": {
          "color": "#FFA15A",
          "symbol": "circle"
         },
         "mode": "markers",
         "name": "night",
         "scene": "scene",
         "showlegend": true,
         "type": "scatter3d",
         "x": [
          -0.01686638407409191
         ],
         "y": [
          0.17567913234233856
         ],
         "z": [
          0.3098002076148987
         ]
        },
        {
         "hovertemplate": "color=little<br>0=%{x}<br>1=%{y}<br>2=%{z}<extra></extra>",
         "legendgroup": "little",
         "marker": {
          "color": "#19d3f3",
          "symbol": "circle"
         },
         "mode": "markers",
         "name": "little",
         "scene": "scene",
         "showlegend": true,
         "type": "scatter3d",
         "x": [
          0.11626038700342178
         ],
         "y": [
          -0.1283283531665802
         ],
         "z": [
          -0.08448495715856552
         ]
        },
        {
         "hovertemplate": "color=took<br>0=%{x}<br>1=%{y}<br>2=%{z}<extra></extra>",
         "legendgroup": "took",
         "marker": {
          "color": "#FF6692",
          "symbol": "circle"
         },
         "mode": "markers",
         "name": "took",
         "scene": "scene",
         "showlegend": true,
         "type": "scatter3d",
         "x": [
          -0.011198430322110653
         ],
         "y": [
          0.2063474953174591
         ],
         "z": [
          -0.19289831817150116
         ]
        },
        {
         "hovertemplate": "color=came<br>0=%{x}<br>1=%{y}<br>2=%{z}<extra></extra>",
         "legendgroup": "came",
         "marker": {
          "color": "#B6E880",
          "symbol": "circle"
         },
         "mode": "markers",
         "name": "came",
         "scene": "scene",
         "showlegend": true,
         "type": "scatter3d",
         "x": [
          -0.27828913927078247
         ],
         "y": [
          0.21124297380447388
         ],
         "z": [
          0.3688264787197113
         ]
        },
        {
         "hovertemplate": "color=though<br>0=%{x}<br>1=%{y}<br>2=%{z}<extra></extra>",
         "legendgroup": "though",
         "marker": {
          "color": "#FF97FF",
          "symbol": "circle"
         },
         "mode": "markers",
         "name": "though",
         "scene": "scene",
         "showlegend": true,
         "type": "scatter3d",
         "x": [
          0.17725495994091034
         ],
         "y": [
          -0.144758403301239
         ],
         "z": [
          0.23476794362068176
         ]
        },
        {
         "hovertemplate": "color=say<br>0=%{x}<br>1=%{y}<br>2=%{z}<extra></extra>",
         "legendgroup": "say",
         "marker": {
          "color": "#FECB52",
          "symbol": "circle"
         },
         "mode": "markers",
         "name": "say",
         "scene": "scene",
         "showlegend": true,
         "type": "scatter3d",
         "x": [
          0.6067217588424683
         ],
         "y": [
          -0.17471852898597717
         ],
         "z": [
          0.119329534471035
         ]
        },
        {
         "hovertemplate": "color=three<br>0=%{x}<br>1=%{y}<br>2=%{z}<extra></extra>",
         "legendgroup": "three",
         "marker": {
          "color": "#636efa",
          "symbol": "circle"
         },
         "mode": "markers",
         "name": "three",
         "scene": "scene",
         "showlegend": true,
         "type": "scatter3d",
         "x": [
          -0.09514812380075455
         ],
         "y": [
          0.7184939384460449
         ],
         "z": [
          0.11982013285160065
         ]
        },
        {
         "hovertemplate": "color=away<br>0=%{x}<br>1=%{y}<br>2=%{z}<extra></extra>",
         "legendgroup": "away",
         "marker": {
          "color": "#EF553B",
          "symbol": "circle"
         },
         "mode": "markers",
         "name": "away",
         "scene": "scene",
         "showlegend": true,
         "type": "scatter3d",
         "x": [
          -0.2795851230621338
         ],
         "y": [
          -0.1347084641456604
         ],
         "z": [
          0.08739377558231354
         ]
        },
        {
         "hovertemplate": "color=dead<br>0=%{x}<br>1=%{y}<br>2=%{z}<extra></extra>",
         "legendgroup": "dead",
         "marker": {
          "color": "#00cc96",
          "symbol": "circle"
         },
         "mode": "markers",
         "name": "dead",
         "scene": "scene",
         "showlegend": true,
         "type": "scatter3d",
         "x": [
          0.04910288378596306
         ],
         "y": [
          0.15662214159965515
         ],
         "z": [
          0.2318858802318573
         ]
        },
        {
         "hovertemplate": "color=son<br>0=%{x}<br>1=%{y}<br>2=%{z}<extra></extra>",
         "legendgroup": "son",
         "marker": {
          "color": "#ab63fa",
          "symbol": "circle"
         },
         "mode": "markers",
         "name": "son",
         "scene": "scene",
         "showlegend": true,
         "type": "scatter3d",
         "x": [
          0.4370555877685547
         ],
         "y": [
          0.6719452738761902
         ],
         "z": [
          -0.5246602296829224
         ]
        },
        {
         "hovertemplate": "color=blood<br>0=%{x}<br>1=%{y}<br>2=%{z}<extra></extra>",
         "legendgroup": "blood",
         "marker": {
          "color": "#FFA15A",
          "symbol": "circle"
         },
         "mode": "markers",
         "name": "blood",
         "scene": "scene",
         "showlegend": true,
         "type": "scatter3d",
         "x": [
          -0.24372415244579315
         ],
         "y": [
          -0.1170356497168541
         ],
         "z": [
          0.005659312941133976
         ]
        },
        {
         "hovertemplate": "color=take<br>0=%{x}<br>1=%{y}<br>2=%{z}<extra></extra>",
         "legendgroup": "take",
         "marker": {
          "color": "#19d3f3",
          "symbol": "circle"
         },
         "mode": "markers",
         "name": "take",
         "scene": "scene",
         "showlegend": true,
         "type": "scatter3d",
         "x": [
          0.4472469985485077
         ],
         "y": [
          0.17128439247608185
         ],
         "z": [
          0.13537150621414185
         ]
        },
        {
         "hovertemplate": "color=go<br>0=%{x}<br>1=%{y}<br>2=%{z}<extra></extra>",
         "legendgroup": "go",
         "marker": {
          "color": "#FF6692",
          "symbol": "circle"
         },
         "mode": "markers",
         "name": "go",
         "scene": "scene",
         "showlegend": true,
         "type": "scatter3d",
         "x": [
          0.28286704421043396
         ],
         "y": [
          -0.1385010927915573
         ],
         "z": [
          0.3724302053451538
         ]
        },
        {
         "hovertemplate": "color=half<br>0=%{x}<br>1=%{y}<br>2=%{z}<extra></extra>",
         "legendgroup": "half",
         "marker": {
          "color": "#B6E880",
          "symbol": "circle"
         },
         "mode": "markers",
         "name": "half",
         "scene": "scene",
         "showlegend": true,
         "type": "scatter3d",
         "x": [
          -0.2288494110107422
         ],
         "y": [
          0.23905570805072784
         ],
         "z": [
          0.2658476233482361
         ]
        },
        {
         "hovertemplate": "color=make<br>0=%{x}<br>1=%{y}<br>2=%{z}<extra></extra>",
         "legendgroup": "make",
         "marker": {
          "color": "#FF97FF",
          "symbol": "circle"
         },
         "mode": "markers",
         "name": "make",
         "scene": "scene",
         "showlegend": true,
         "type": "scatter3d",
         "x": [
          0.40720805525779724
         ],
         "y": [
          -0.17405863106250763
         ],
         "z": [
          0.28948843479156494
         ]
        },
        {
         "hovertemplate": "color=arya<br>0=%{x}<br>1=%{y}<br>2=%{z}<extra></extra>",
         "legendgroup": "arya",
         "marker": {
          "color": "#FECB52",
          "symbol": "circle"
         },
         "mode": "markers",
         "name": "arya",
         "scene": "scene",
         "showlegend": true,
         "type": "scatter3d",
         "x": [
          -0.1173500046133995
         ],
         "y": [
          -0.3636021912097931
         ],
         "z": [
          0.03763854503631592
         ]
        },
        {
         "hovertemplate": "color=saw<br>0=%{x}<br>1=%{y}<br>2=%{z}<extra></extra>",
         "legendgroup": "saw",
         "marker": {
          "color": "#636efa",
          "symbol": "circle"
         },
         "mode": "markers",
         "name": "saw",
         "scene": "scene",
         "showlegend": true,
         "type": "scatter3d",
         "x": [
          -0.33158162236213684
         ],
         "y": [
          0.11662566661834717
         ],
         "z": [
          0.0903158038854599
         ]
        },
        {
         "hovertemplate": "color=day<br>0=%{x}<br>1=%{y}<br>2=%{z}<extra></extra>",
         "legendgroup": "day",
         "marker": {
          "color": "#EF553B",
          "symbol": "circle"
         },
         "mode": "markers",
         "name": "day",
         "scene": "scene",
         "showlegend": true,
         "type": "scatter3d",
         "x": [
          0.08487632870674133
         ],
         "y": [
          0.25085029006004333
         ],
         "z": [
          0.37078842520713806
         ]
        },
        {
         "hovertemplate": "color=white<br>0=%{x}<br>1=%{y}<br>2=%{z}<extra></extra>",
         "legendgroup": "white",
         "marker": {
          "color": "#00cc96",
          "symbol": "circle"
         },
         "mode": "markers",
         "name": "white",
         "scene": "scene",
         "showlegend": true,
         "type": "scatter3d",
         "x": [
          -0.39502090215682983
         ],
         "y": [
          0.5099915266036987
         ],
         "z": [
          -0.3276423513889313
         ]
        },
        {
         "hovertemplate": "color=jaime<br>0=%{x}<br>1=%{y}<br>2=%{z}<extra></extra>",
         "legendgroup": "jaime",
         "marker": {
          "color": "#ab63fa",
          "symbol": "circle"
         },
         "mode": "markers",
         "name": "jaime",
         "scene": "scene",
         "showlegend": true,
         "type": "scatter3d",
         "x": [
          0.2242177277803421
         ],
         "y": [
          0.1143486499786377
         ],
         "z": [
          -0.35460254549980164
         ]
        },
        {
         "hovertemplate": "color=first<br>0=%{x}<br>1=%{y}<br>2=%{z}<extra></extra>",
         "legendgroup": "first",
         "marker": {
          "color": "#FFA15A",
          "symbol": "circle"
         },
         "mode": "markers",
         "name": "first",
         "scene": "scene",
         "showlegend": true,
         "type": "scatter3d",
         "x": [
          0.18151989579200745
         ],
         "y": [
          0.4139882028102875
         ],
         "z": [
          0.15861625969409943
         ]
        },
        {
         "hovertemplate": "color=look<br>0=%{x}<br>1=%{y}<br>2=%{z}<extra></extra>",
         "legendgroup": "look",
         "marker": {
          "color": "#19d3f3",
          "symbol": "circle"
         },
         "mode": "markers",
         "name": "look",
         "scene": "scene",
         "showlegend": true,
         "type": "scatter3d",
         "x": [
          -0.0008319304906763136
         ],
         "y": [
          -0.24434806406497955
         ],
         "z": [
          -0.12547548115253448
         ]
        },
        {
         "hovertemplate": "color=want<br>0=%{x}<br>1=%{y}<br>2=%{z}<extra></extra>",
         "legendgroup": "want",
         "marker": {
          "color": "#FF6692",
          "symbol": "circle"
         },
         "mode": "markers",
         "name": "want",
         "scene": "scene",
         "showlegend": true,
         "type": "scatter3d",
         "x": [
          0.5433881878852844
         ],
         "y": [
          -0.18896962702274323
         ],
         "z": [
          0.20165033638477325
         ]
        },
        {
         "hovertemplate": "color=much<br>0=%{x}<br>1=%{y}<br>2=%{z}<extra></extra>",
         "legendgroup": "much",
         "marker": {
          "color": "#B6E880",
          "symbol": "circle"
         },
         "mode": "markers",
         "name": "much",
         "scene": "scene",
         "showlegend": true,
         "type": "scatter3d",
         "x": [
          0.49138423800468445
         ],
         "y": [
          -0.21329732239246368
         ],
         "z": [
          0.26179802417755127
         ]
        },
        {
         "hovertemplate": "color=enough<br>0=%{x}<br>1=%{y}<br>2=%{z}<extra></extra>",
         "legendgroup": "enough",
         "marker": {
          "color": "#FF97FF",
          "symbol": "circle"
         },
         "mode": "markers",
         "name": "enough",
         "scene": "scene",
         "showlegend": true,
         "type": "scatter3d",
         "x": [
          0.17950387299060822
         ],
         "y": [
          -0.05669073387980461
         ],
         "z": [
          0.3379470407962799
         ]
        },
        {
         "hovertemplate": "color=sword<br>0=%{x}<br>1=%{y}<br>2=%{z}<extra></extra>",
         "legendgroup": "sword",
         "marker": {
          "color": "#FECB52",
          "symbol": "circle"
         },
         "mode": "markers",
         "name": "sword",
         "scene": "scene",
         "showlegend": true,
         "type": "scatter3d",
         "x": [
          -0.12698188424110413
         ],
         "y": [
          0.1310432106256485
         ],
         "z": [
          -0.28228315711021423
         ]
        },
        {
         "hovertemplate": "color=tell<br>0=%{x}<br>1=%{y}<br>2=%{z}<extra></extra>",
         "legendgroup": "tell",
         "marker": {
          "color": "#636efa",
          "symbol": "circle"
         },
         "mode": "markers",
         "name": "tell",
         "scene": "scene",
         "showlegend": true,
         "type": "scatter3d",
         "x": [
          0.6518632769584656
         ],
         "y": [
          -0.16163270175457
         ],
         "z": [
          0.17287755012512207
         ]
        },
        {
         "hovertemplate": "color=girl<br>0=%{x}<br>1=%{y}<br>2=%{z}<extra></extra>",
         "legendgroup": "girl",
         "marker": {
          "color": "#EF553B",
          "symbol": "circle"
         },
         "mode": "markers",
         "name": "girl",
         "scene": "scene",
         "showlegend": true,
         "type": "scatter3d",
         "x": [
          0.23860305547714233
         ],
         "y": [
          0.017435140907764435
         ],
         "z": [
          -0.32135021686553955
         ]
        },
        {
         "hovertemplate": "color=bran<br>0=%{x}<br>1=%{y}<br>2=%{z}<extra></extra>",
         "legendgroup": "bran",
         "marker": {
          "color": "#00cc96",
          "symbol": "circle"
         },
         "mode": "markers",
         "name": "bran",
         "scene": "scene",
         "showlegend": true,
         "type": "scatter3d",
         "x": [
          -0.08224072307348251
         ],
         "y": [
          -0.29346099495887756
         ],
         "z": [
          0.1375635713338852
         ]
        },
        {
         "hovertemplate": "color=great<br>0=%{x}<br>1=%{y}<br>2=%{z}<extra></extra>",
         "legendgroup": "great",
         "marker": {
          "color": "#ab63fa",
          "symbol": "circle"
         },
         "mode": "markers",
         "name": "great",
         "scene": "scene",
         "showlegend": true,
         "type": "scatter3d",
         "x": [
          -0.15921948850154877
         ],
         "y": [
          0.7926467657089233
         ],
         "z": [
          0.16010913252830505
         ]
        },
        {
         "hovertemplate": "color=looked<br>0=%{x}<br>1=%{y}<br>2=%{z}<extra></extra>",
         "legendgroup": "looked",
         "marker": {
          "color": "#FFA15A",
          "symbol": "circle"
         },
         "mode": "markers",
         "name": "looked",
         "scene": "scene",
         "showlegend": true,
         "type": "scatter3d",
         "x": [
          -0.21420453488826752
         ],
         "y": [
          -0.056427523493766785
         ],
         "z": [
          -0.19507740437984467
         ]
        },
        {
         "hovertemplate": "color=left<br>0=%{x}<br>1=%{y}<br>2=%{z}<extra></extra>",
         "legendgroup": "left",
         "marker": {
          "color": "#19d3f3",
          "symbol": "circle"
         },
         "mode": "markers",
         "name": "left",
         "scene": "scene",
         "showlegend": true,
         "type": "scatter3d",
         "x": [
          -0.24429240822792053
         ],
         "y": [
          0.3009146451950073
         ],
         "z": [
          0.005902471486479044
         ]
        },
        {
         "hovertemplate": "color=knew<br>0=%{x}<br>1=%{y}<br>2=%{z}<extra></extra>",
         "legendgroup": "knew",
         "marker": {
          "color": "#FF6692",
          "symbol": "circle"
         },
         "mode": "markers",
         "name": "knew",
         "scene": "scene",
         "showlegend": true,
         "type": "scatter3d",
         "x": [
          0.3180016875267029
         ],
         "y": [
          -0.16174787282943726
         ],
         "z": [
          0.37443414330482483
         ]
        },
        {
         "hovertemplate": "color=asked<br>0=%{x}<br>1=%{y}<br>2=%{z}<extra></extra>",
         "legendgroup": "asked",
         "marker": {
          "color": "#B6E880",
          "symbol": "circle"
         },
         "mode": "markers",
         "name": "asked",
         "scene": "scene",
         "showlegend": true,
         "type": "scatter3d",
         "x": [
          0.5164957046508789
         ],
         "y": [
          -0.022192850708961487
         ],
         "z": [
          -0.2740795910358429
         ]
        },
        {
         "hovertemplate": "color=gave<br>0=%{x}<br>1=%{y}<br>2=%{z}<extra></extra>",
         "legendgroup": "gave",
         "marker": {
          "color": "#FF97FF",
          "symbol": "circle"
         },
         "mode": "markers",
         "name": "gave",
         "scene": "scene",
         "showlegend": true,
         "type": "scatter3d",
         "x": [
          0.06961492449045181
         ],
         "y": [
          -0.19600032269954681
         ],
         "z": [
          -0.5015144944190979
         ]
        },
        {
         "hovertemplate": "color=maester<br>0=%{x}<br>1=%{y}<br>2=%{z}<extra></extra>",
         "legendgroup": "maester",
         "marker": {
          "color": "#FECB52",
          "symbol": "circle"
         },
         "mode": "markers",
         "name": "maester",
         "scene": "scene",
         "showlegend": true,
         "type": "scatter3d",
         "x": [
          0.165738046169281
         ],
         "y": [
          0.22403064370155334
         ],
         "z": [
          -0.3548944890499115
         ]
        },
        {
         "hovertemplate": "color=called<br>0=%{x}<br>1=%{y}<br>2=%{z}<extra></extra>",
         "legendgroup": "called",
         "marker": {
          "color": "#636efa",
          "symbol": "circle"
         },
         "mode": "markers",
         "name": "called",
         "scene": "scene",
         "showlegend": true,
         "type": "scatter3d",
         "x": [
          0.21287915110588074
         ],
         "y": [
          0.6617612242698669
         ],
         "z": [
          -0.46170270442962646
         ]
        },
        {
         "hovertemplate": "color=wall<br>0=%{x}<br>1=%{y}<br>2=%{z}<extra></extra>",
         "legendgroup": "wall",
         "marker": {
          "color": "#EF553B",
          "symbol": "circle"
         },
         "mode": "markers",
         "name": "wall",
         "scene": "scene",
         "showlegend": true,
         "type": "scatter3d",
         "x": [
          -0.24078857898712158
         ],
         "y": [
          0.37370145320892334
         ],
         "z": [
          0.46354424953460693
         ]
        },
        {
         "hovertemplate": "color=every<br>0=%{x}<br>1=%{y}<br>2=%{z}<extra></extra>",
         "legendgroup": "every",
         "marker": {
          "color": "#00cc96",
          "symbol": "circle"
         },
         "mode": "markers",
         "name": "every",
         "scene": "scene",
         "showlegend": true,
         "type": "scatter3d",
         "x": [
          -0.12242341041564941
         ],
         "y": [
          0.24479550123214722
         ],
         "z": [
          0.34361812472343445
         ]
        },
        {
         "hovertemplate": "color=heard<br>0=%{x}<br>1=%{y}<br>2=%{z}<extra></extra>",
         "legendgroup": "heard",
         "marker": {
          "color": "#ab63fa",
          "symbol": "circle"
         },
         "mode": "markers",
         "name": "heard",
         "scene": "scene",
         "showlegend": true,
         "type": "scatter3d",
         "x": [
          0.020352916792035103
         ],
         "y": [
          -0.09778642654418945
         ],
         "z": [
          0.2339801788330078
         ]
        },
        {
         "hovertemplate": "color=sansa<br>0=%{x}<br>1=%{y}<br>2=%{z}<extra></extra>",
         "legendgroup": "sansa",
         "marker": {
          "color": "#FFA15A",
          "symbol": "circle"
         },
         "mode": "markers",
         "name": "sansa",
         "scene": "scene",
         "showlegend": true,
         "type": "scatter3d",
         "x": [
          0.1801951378583908
         ],
         "y": [
          -0.29018232226371765
         ],
         "z": [
          -0.29298022389411926
         ]
        },
        {
         "hovertemplate": "color=let<br>0=%{x}<br>1=%{y}<br>2=%{z}<extra></extra>",
         "legendgroup": "let",
         "marker": {
          "color": "#19d3f3",
          "symbol": "circle"
         },
         "mode": "markers",
         "name": "let",
         "scene": "scene",
         "showlegend": true,
         "type": "scatter3d",
         "x": [
          0.23343060910701752
         ],
         "y": [
          -0.21689799427986145
         ],
         "z": [
          0.19090546667575836
         ]
        },
        {
         "hovertemplate": "color=yet<br>0=%{x}<br>1=%{y}<br>2=%{z}<extra></extra>",
         "legendgroup": "yet",
         "marker": {
          "color": "#FF6692",
          "symbol": "circle"
         },
         "mode": "markers",
         "name": "yet",
         "scene": "scene",
         "showlegend": true,
         "type": "scatter3d",
         "x": [
          0.2711443603038788
         ],
         "y": [
          -0.0031689780298620462
         ],
         "z": [
          0.42915108799934387
         ]
        },
        {
         "hovertemplate": "color=went<br>0=%{x}<br>1=%{y}<br>2=%{z}<extra></extra>",
         "legendgroup": "went",
         "marker": {
          "color": "#B6E880",
          "symbol": "circle"
         },
         "mode": "markers",
         "name": "went",
         "scene": "scene",
         "showlegend": true,
         "type": "scatter3d",
         "x": [
          -0.36854374408721924
         ],
         "y": [
          0.08275957405567169
         ],
         "z": [
          0.14275413751602173
         ]
        },
        {
         "hovertemplate": "color=turned<br>0=%{x}<br>1=%{y}<br>2=%{z}<extra></extra>",
         "legendgroup": "turned",
         "marker": {
          "color": "#FF97FF",
          "symbol": "circle"
         },
         "mode": "markers",
         "name": "turned",
         "scene": "scene",
         "showlegend": true,
         "type": "scatter3d",
         "x": [
          -0.2919255197048187
         ],
         "y": [
          0.07371614128351212
         ],
         "z": [
          -0.2406698763370514
         ]
        },
        {
         "hovertemplate": "color=dany<br>0=%{x}<br>1=%{y}<br>2=%{z}<extra></extra>",
         "legendgroup": "dany",
         "marker": {
          "color": "#FECB52",
          "symbol": "circle"
         },
         "mode": "markers",
         "name": "dany",
         "scene": "scene",
         "showlegend": true,
         "type": "scatter3d",
         "x": [
          -0.10933718085289001
         ],
         "y": [
          -0.15517355501651764
         ],
         "z": [
          0.01693599298596382
         ]
        },
        {
         "hovertemplate": "color=behind<br>0=%{x}<br>1=%{y}<br>2=%{z}<extra></extra>",
         "legendgroup": "behind",
         "marker": {
          "color": "#636efa",
          "symbol": "circle"
         },
         "mode": "markers",
         "name": "behind",
         "scene": "scene",
         "showlegend": true,
         "type": "scatter3d",
         "x": [
          -0.5481261610984802
         ],
         "y": [
          0.4186214208602905
         ],
         "z": [
          0.08451937139034271
         ]
        },
        {
         "hovertemplate": "color=need<br>0=%{x}<br>1=%{y}<br>2=%{z}<extra></extra>",
         "legendgroup": "need",
         "marker": {
          "color": "#EF553B",
          "symbol": "circle"
         },
         "mode": "markers",
         "name": "need",
         "scene": "scene",
         "showlegend": true,
         "type": "scatter3d",
         "x": [
          0.47847679257392883
         ],
         "y": [
          0.061722662299871445
         ],
         "z": [
          0.31577134132385254
         ]
        },
        {
         "hovertemplate": "color=around<br>0=%{x}<br>1=%{y}<br>2=%{z}<extra></extra>",
         "legendgroup": "around",
         "marker": {
          "color": "#00cc96",
          "symbol": "circle"
         },
         "mode": "markers",
         "name": "around",
         "scene": "scene",
         "showlegend": true,
         "type": "scatter3d",
         "x": [
          -0.7545366883277893
         ],
         "y": [
          0.12563495337963104
         ],
         "z": [
          0.049643680453300476
         ]
        },
        {
         "hovertemplate": "color=woman<br>0=%{x}<br>1=%{y}<br>2=%{z}<extra></extra>",
         "legendgroup": "woman",
         "marker": {
          "color": "#ab63fa",
          "symbol": "circle"
         },
         "mode": "markers",
         "name": "woman",
         "scene": "scene",
         "showlegend": true,
         "type": "scatter3d",
         "x": [
          0.06316021829843521
         ],
         "y": [
          -0.1161438450217247
         ],
         "z": [
          -0.2174212634563446
         ]
        },
        {
         "hovertemplate": "color=another<br>0=%{x}<br>1=%{y}<br>2=%{z}<extra></extra>",
         "legendgroup": "another",
         "marker": {
          "color": "#FFA15A",
          "symbol": "circle"
         },
         "mode": "markers",
         "name": "another",
         "scene": "scene",
         "showlegend": true,
         "type": "scatter3d",
         "x": [
          -0.0320865772664547
         ],
         "y": [
          0.069725401699543
         ],
         "z": [
          0.1585317701101303
         ]
        },
        {
         "hovertemplate": "color=snow<br>0=%{x}<br>1=%{y}<br>2=%{z}<extra></extra>",
         "legendgroup": "snow",
         "marker": {
          "color": "#19d3f3",
          "symbol": "circle"
         },
         "mode": "markers",
         "name": "snow",
         "scene": "scene",
         "showlegend": true,
         "type": "scatter3d",
         "x": [
          -0.27681100368499756
         ],
         "y": [
          0.04783710464835167
         ],
         "z": [
          0.0678137019276619
         ]
        },
        {
         "hovertemplate": "color=beneath<br>0=%{x}<br>1=%{y}<br>2=%{z}<extra></extra>",
         "legendgroup": "beneath",
         "marker": {
          "color": "#FF6692",
          "symbol": "circle"
         },
         "mode": "markers",
         "name": "beneath",
         "scene": "scene",
         "showlegend": true,
         "type": "scatter3d",
         "x": [
          -0.7424320578575134
         ],
         "y": [
          0.3432939350605011
         ],
         "z": [
          0.14892500638961792
         ]
        },
        {
         "hovertemplate": "color=across<br>0=%{x}<br>1=%{y}<br>2=%{z}<extra></extra>",
         "legendgroup": "across",
         "marker": {
          "color": "#B6E880",
          "symbol": "circle"
         },
         "mode": "markers",
         "name": "across",
         "scene": "scene",
         "showlegend": true,
         "type": "scatter3d",
         "x": [
          -0.678010880947113
         ],
         "y": [
          0.3096669912338257
         ],
         "z": [
          0.05956551805138588
         ]
        },
        {
         "hovertemplate": "color=knight<br>0=%{x}<br>1=%{y}<br>2=%{z}<extra></extra>",
         "legendgroup": "knight",
         "marker": {
          "color": "#FF97FF",
          "symbol": "circle"
         },
         "mode": "markers",
         "name": "knight",
         "scene": "scene",
         "showlegend": true,
         "type": "scatter3d",
         "x": [
          0.24153919517993927
         ],
         "y": [
          0.44782039523124695
         ],
         "z": [
          -0.6206858158111572
         ]
        },
        {
         "hovertemplate": "color=keep<br>0=%{x}<br>1=%{y}<br>2=%{z}<extra></extra>",
         "legendgroup": "keep",
         "marker": {
          "color": "#FECB52",
          "symbol": "circle"
         },
         "mode": "markers",
         "name": "keep",
         "scene": "scene",
         "showlegend": true,
         "type": "scatter3d",
         "x": [
          0.07308177649974823
         ],
         "y": [
          0.2409590631723404
         ],
         "z": [
          0.32451996207237244
         ]
        }
       ],
       "layout": {
        "legend": {
         "title": {
          "text": "color"
         },
         "tracegroupgap": 0
        },
        "margin": {
         "t": 60
        },
        "scene": {
         "domain": {
          "x": [
           0,
           1
          ],
          "y": [
           0,
           1
          ]
         },
         "xaxis": {
          "title": {
           "text": "0"
          }
         },
         "yaxis": {
          "title": {
           "text": "1"
          }
         },
         "zaxis": {
          "title": {
           "text": "2"
          }
         }
        },
        "template": {
         "data": {
          "bar": [
           {
            "error_x": {
             "color": "#2a3f5f"
            },
            "error_y": {
             "color": "#2a3f5f"
            },
            "marker": {
             "line": {
              "color": "#E5ECF6",
              "width": 0.5
             },
             "pattern": {
              "fillmode": "overlay",
              "size": 10,
              "solidity": 0.2
             }
            },
            "type": "bar"
           }
          ],
          "barpolar": [
           {
            "marker": {
             "line": {
              "color": "#E5ECF6",
              "width": 0.5
             },
             "pattern": {
              "fillmode": "overlay",
              "size": 10,
              "solidity": 0.2
             }
            },
            "type": "barpolar"
           }
          ],
          "carpet": [
           {
            "aaxis": {
             "endlinecolor": "#2a3f5f",
             "gridcolor": "white",
             "linecolor": "white",
             "minorgridcolor": "white",
             "startlinecolor": "#2a3f5f"
            },
            "baxis": {
             "endlinecolor": "#2a3f5f",
             "gridcolor": "white",
             "linecolor": "white",
             "minorgridcolor": "white",
             "startlinecolor": "#2a3f5f"
            },
            "type": "carpet"
           }
          ],
          "choropleth": [
           {
            "colorbar": {
             "outlinewidth": 0,
             "ticks": ""
            },
            "type": "choropleth"
           }
          ],
          "contour": [
           {
            "colorbar": {
             "outlinewidth": 0,
             "ticks": ""
            },
            "colorscale": [
             [
              0,
              "#0d0887"
             ],
             [
              0.1111111111111111,
              "#46039f"
             ],
             [
              0.2222222222222222,
              "#7201a8"
             ],
             [
              0.3333333333333333,
              "#9c179e"
             ],
             [
              0.4444444444444444,
              "#bd3786"
             ],
             [
              0.5555555555555556,
              "#d8576b"
             ],
             [
              0.6666666666666666,
              "#ed7953"
             ],
             [
              0.7777777777777778,
              "#fb9f3a"
             ],
             [
              0.8888888888888888,
              "#fdca26"
             ],
             [
              1,
              "#f0f921"
             ]
            ],
            "type": "contour"
           }
          ],
          "contourcarpet": [
           {
            "colorbar": {
             "outlinewidth": 0,
             "ticks": ""
            },
            "type": "contourcarpet"
           }
          ],
          "heatmap": [
           {
            "colorbar": {
             "outlinewidth": 0,
             "ticks": ""
            },
            "colorscale": [
             [
              0,
              "#0d0887"
             ],
             [
              0.1111111111111111,
              "#46039f"
             ],
             [
              0.2222222222222222,
              "#7201a8"
             ],
             [
              0.3333333333333333,
              "#9c179e"
             ],
             [
              0.4444444444444444,
              "#bd3786"
             ],
             [
              0.5555555555555556,
              "#d8576b"
             ],
             [
              0.6666666666666666,
              "#ed7953"
             ],
             [
              0.7777777777777778,
              "#fb9f3a"
             ],
             [
              0.8888888888888888,
              "#fdca26"
             ],
             [
              1,
              "#f0f921"
             ]
            ],
            "type": "heatmap"
           }
          ],
          "heatmapgl": [
           {
            "colorbar": {
             "outlinewidth": 0,
             "ticks": ""
            },
            "colorscale": [
             [
              0,
              "#0d0887"
             ],
             [
              0.1111111111111111,
              "#46039f"
             ],
             [
              0.2222222222222222,
              "#7201a8"
             ],
             [
              0.3333333333333333,
              "#9c179e"
             ],
             [
              0.4444444444444444,
              "#bd3786"
             ],
             [
              0.5555555555555556,
              "#d8576b"
             ],
             [
              0.6666666666666666,
              "#ed7953"
             ],
             [
              0.7777777777777778,
              "#fb9f3a"
             ],
             [
              0.8888888888888888,
              "#fdca26"
             ],
             [
              1,
              "#f0f921"
             ]
            ],
            "type": "heatmapgl"
           }
          ],
          "histogram": [
           {
            "marker": {
             "pattern": {
              "fillmode": "overlay",
              "size": 10,
              "solidity": 0.2
             }
            },
            "type": "histogram"
           }
          ],
          "histogram2d": [
           {
            "colorbar": {
             "outlinewidth": 0,
             "ticks": ""
            },
            "colorscale": [
             [
              0,
              "#0d0887"
             ],
             [
              0.1111111111111111,
              "#46039f"
             ],
             [
              0.2222222222222222,
              "#7201a8"
             ],
             [
              0.3333333333333333,
              "#9c179e"
             ],
             [
              0.4444444444444444,
              "#bd3786"
             ],
             [
              0.5555555555555556,
              "#d8576b"
             ],
             [
              0.6666666666666666,
              "#ed7953"
             ],
             [
              0.7777777777777778,
              "#fb9f3a"
             ],
             [
              0.8888888888888888,
              "#fdca26"
             ],
             [
              1,
              "#f0f921"
             ]
            ],
            "type": "histogram2d"
           }
          ],
          "histogram2dcontour": [
           {
            "colorbar": {
             "outlinewidth": 0,
             "ticks": ""
            },
            "colorscale": [
             [
              0,
              "#0d0887"
             ],
             [
              0.1111111111111111,
              "#46039f"
             ],
             [
              0.2222222222222222,
              "#7201a8"
             ],
             [
              0.3333333333333333,
              "#9c179e"
             ],
             [
              0.4444444444444444,
              "#bd3786"
             ],
             [
              0.5555555555555556,
              "#d8576b"
             ],
             [
              0.6666666666666666,
              "#ed7953"
             ],
             [
              0.7777777777777778,
              "#fb9f3a"
             ],
             [
              0.8888888888888888,
              "#fdca26"
             ],
             [
              1,
              "#f0f921"
             ]
            ],
            "type": "histogram2dcontour"
           }
          ],
          "mesh3d": [
           {
            "colorbar": {
             "outlinewidth": 0,
             "ticks": ""
            },
            "type": "mesh3d"
           }
          ],
          "parcoords": [
           {
            "line": {
             "colorbar": {
              "outlinewidth": 0,
              "ticks": ""
             }
            },
            "type": "parcoords"
           }
          ],
          "pie": [
           {
            "automargin": true,
            "type": "pie"
           }
          ],
          "scatter": [
           {
            "fillpattern": {
             "fillmode": "overlay",
             "size": 10,
             "solidity": 0.2
            },
            "type": "scatter"
           }
          ],
          "scatter3d": [
           {
            "line": {
             "colorbar": {
              "outlinewidth": 0,
              "ticks": ""
             }
            },
            "marker": {
             "colorbar": {
              "outlinewidth": 0,
              "ticks": ""
             }
            },
            "type": "scatter3d"
           }
          ],
          "scattercarpet": [
           {
            "marker": {
             "colorbar": {
              "outlinewidth": 0,
              "ticks": ""
             }
            },
            "type": "scattercarpet"
           }
          ],
          "scattergeo": [
           {
            "marker": {
             "colorbar": {
              "outlinewidth": 0,
              "ticks": ""
             }
            },
            "type": "scattergeo"
           }
          ],
          "scattergl": [
           {
            "marker": {
             "colorbar": {
              "outlinewidth": 0,
              "ticks": ""
             }
            },
            "type": "scattergl"
           }
          ],
          "scattermapbox": [
           {
            "marker": {
             "colorbar": {
              "outlinewidth": 0,
              "ticks": ""
             }
            },
            "type": "scattermapbox"
           }
          ],
          "scatterpolar": [
           {
            "marker": {
             "colorbar": {
              "outlinewidth": 0,
              "ticks": ""
             }
            },
            "type": "scatterpolar"
           }
          ],
          "scatterpolargl": [
           {
            "marker": {
             "colorbar": {
              "outlinewidth": 0,
              "ticks": ""
             }
            },
            "type": "scatterpolargl"
           }
          ],
          "scatterternary": [
           {
            "marker": {
             "colorbar": {
              "outlinewidth": 0,
              "ticks": ""
             }
            },
            "type": "scatterternary"
           }
          ],
          "surface": [
           {
            "colorbar": {
             "outlinewidth": 0,
             "ticks": ""
            },
            "colorscale": [
             [
              0,
              "#0d0887"
             ],
             [
              0.1111111111111111,
              "#46039f"
             ],
             [
              0.2222222222222222,
              "#7201a8"
             ],
             [
              0.3333333333333333,
              "#9c179e"
             ],
             [
              0.4444444444444444,
              "#bd3786"
             ],
             [
              0.5555555555555556,
              "#d8576b"
             ],
             [
              0.6666666666666666,
              "#ed7953"
             ],
             [
              0.7777777777777778,
              "#fb9f3a"
             ],
             [
              0.8888888888888888,
              "#fdca26"
             ],
             [
              1,
              "#f0f921"
             ]
            ],
            "type": "surface"
           }
          ],
          "table": [
           {
            "cells": {
             "fill": {
              "color": "#EBF0F8"
             },
             "line": {
              "color": "white"
             }
            },
            "header": {
             "fill": {
              "color": "#C8D4E3"
             },
             "line": {
              "color": "white"
             }
            },
            "type": "table"
           }
          ]
         },
         "layout": {
          "annotationdefaults": {
           "arrowcolor": "#2a3f5f",
           "arrowhead": 0,
           "arrowwidth": 1
          },
          "autotypenumbers": "strict",
          "coloraxis": {
           "colorbar": {
            "outlinewidth": 0,
            "ticks": ""
           }
          },
          "colorscale": {
           "diverging": [
            [
             0,
             "#8e0152"
            ],
            [
             0.1,
             "#c51b7d"
            ],
            [
             0.2,
             "#de77ae"
            ],
            [
             0.3,
             "#f1b6da"
            ],
            [
             0.4,
             "#fde0ef"
            ],
            [
             0.5,
             "#f7f7f7"
            ],
            [
             0.6,
             "#e6f5d0"
            ],
            [
             0.7,
             "#b8e186"
            ],
            [
             0.8,
             "#7fbc41"
            ],
            [
             0.9,
             "#4d9221"
            ],
            [
             1,
             "#276419"
            ]
           ],
           "sequential": [
            [
             0,
             "#0d0887"
            ],
            [
             0.1111111111111111,
             "#46039f"
            ],
            [
             0.2222222222222222,
             "#7201a8"
            ],
            [
             0.3333333333333333,
             "#9c179e"
            ],
            [
             0.4444444444444444,
             "#bd3786"
            ],
            [
             0.5555555555555556,
             "#d8576b"
            ],
            [
             0.6666666666666666,
             "#ed7953"
            ],
            [
             0.7777777777777778,
             "#fb9f3a"
            ],
            [
             0.8888888888888888,
             "#fdca26"
            ],
            [
             1,
             "#f0f921"
            ]
           ],
           "sequentialminus": [
            [
             0,
             "#0d0887"
            ],
            [
             0.1111111111111111,
             "#46039f"
            ],
            [
             0.2222222222222222,
             "#7201a8"
            ],
            [
             0.3333333333333333,
             "#9c179e"
            ],
            [
             0.4444444444444444,
             "#bd3786"
            ],
            [
             0.5555555555555556,
             "#d8576b"
            ],
            [
             0.6666666666666666,
             "#ed7953"
            ],
            [
             0.7777777777777778,
             "#fb9f3a"
            ],
            [
             0.8888888888888888,
             "#fdca26"
            ],
            [
             1,
             "#f0f921"
            ]
           ]
          },
          "colorway": [
           "#636efa",
           "#EF553B",
           "#00cc96",
           "#ab63fa",
           "#FFA15A",
           "#19d3f3",
           "#FF6692",
           "#B6E880",
           "#FF97FF",
           "#FECB52"
          ],
          "font": {
           "color": "#2a3f5f"
          },
          "geo": {
           "bgcolor": "white",
           "lakecolor": "white",
           "landcolor": "#E5ECF6",
           "showlakes": true,
           "showland": true,
           "subunitcolor": "white"
          },
          "hoverlabel": {
           "align": "left"
          },
          "hovermode": "closest",
          "mapbox": {
           "style": "light"
          },
          "paper_bgcolor": "white",
          "plot_bgcolor": "#E5ECF6",
          "polar": {
           "angularaxis": {
            "gridcolor": "white",
            "linecolor": "white",
            "ticks": ""
           },
           "bgcolor": "#E5ECF6",
           "radialaxis": {
            "gridcolor": "white",
            "linecolor": "white",
            "ticks": ""
           }
          },
          "scene": {
           "xaxis": {
            "backgroundcolor": "#E5ECF6",
            "gridcolor": "white",
            "gridwidth": 2,
            "linecolor": "white",
            "showbackground": true,
            "ticks": "",
            "zerolinecolor": "white"
           },
           "yaxis": {
            "backgroundcolor": "#E5ECF6",
            "gridcolor": "white",
            "gridwidth": 2,
            "linecolor": "white",
            "showbackground": true,
            "ticks": "",
            "zerolinecolor": "white"
           },
           "zaxis": {
            "backgroundcolor": "#E5ECF6",
            "gridcolor": "white",
            "gridwidth": 2,
            "linecolor": "white",
            "showbackground": true,
            "ticks": "",
            "zerolinecolor": "white"
           }
          },
          "shapedefaults": {
           "line": {
            "color": "#2a3f5f"
           }
          },
          "ternary": {
           "aaxis": {
            "gridcolor": "white",
            "linecolor": "white",
            "ticks": ""
           },
           "baxis": {
            "gridcolor": "white",
            "linecolor": "white",
            "ticks": ""
           },
           "bgcolor": "#E5ECF6",
           "caxis": {
            "gridcolor": "white",
            "linecolor": "white",
            "ticks": ""
           }
          },
          "title": {
           "x": 0.05
          },
          "xaxis": {
           "automargin": true,
           "gridcolor": "white",
           "linecolor": "white",
           "ticks": "",
           "title": {
            "standoff": 15
           },
           "zerolinecolor": "white",
           "zerolinewidth": 2
          },
          "yaxis": {
           "automargin": true,
           "gridcolor": "white",
           "linecolor": "white",
           "ticks": "",
           "title": {
            "standoff": 15
           },
           "zerolinecolor": "white",
           "zerolinewidth": 2
          }
         }
        }
       }
      },
      "text/html": [
       "<div>                            <div id=\"19feab61-734a-4e96-8edf-53d45d148498\" class=\"plotly-graph-div\" style=\"height:525px; width:100%;\"></div>            <script type=\"text/javascript\">                require([\"plotly\"], function(Plotly) {                    window.PLOTLYENV=window.PLOTLYENV || {};                                    if (document.getElementById(\"19feab61-734a-4e96-8edf-53d45d148498\")) {                    Plotly.newPlot(                        \"19feab61-734a-4e96-8edf-53d45d148498\",                        [{\"hovertemplate\":\"color=said<br>0=%{x}<br>1=%{y}<br>2=%{z}<extra></extra>\",\"legendgroup\":\"said\",\"marker\":{\"color\":\"#636efa\",\"symbol\":\"circle\"},\"mode\":\"markers\",\"name\":\"said\",\"scene\":\"scene\",\"showlegend\":true,\"x\":[0.5086426138877869],\"y\":[0.0171468835324049],\"z\":[-0.21909518539905548],\"type\":\"scatter3d\"},{\"hovertemplate\":\"color=lord<br>0=%{x}<br>1=%{y}<br>2=%{z}<extra></extra>\",\"legendgroup\":\"lord\",\"marker\":{\"color\":\"#EF553B\",\"symbol\":\"circle\"},\"mode\":\"markers\",\"name\":\"lord\",\"scene\":\"scene\",\"showlegend\":true,\"x\":[0.38209596276283264],\"y\":[0.563991904258728],\"z\":[-0.4028817117214203],\"type\":\"scatter3d\"},{\"hovertemplate\":\"color=would<br>0=%{x}<br>1=%{y}<br>2=%{z}<extra></extra>\",\"legendgroup\":\"would\",\"marker\":{\"color\":\"#00cc96\",\"symbol\":\"circle\"},\"mode\":\"markers\",\"name\":\"would\",\"scene\":\"scene\",\"showlegend\":true,\"x\":[0.5248525142669678],\"y\":[-0.039933644235134125],\"z\":[0.3343738615512848],\"type\":\"scatter3d\"},{\"hovertemplate\":\"color=one<br>0=%{x}<br>1=%{y}<br>2=%{z}<extra></extra>\",\"legendgroup\":\"one\",\"marker\":{\"color\":\"#ab63fa\",\"symbol\":\"circle\"},\"mode\":\"markers\",\"name\":\"one\",\"scene\":\"scene\",\"showlegend\":true,\"x\":[-0.03230270370841026],\"y\":[0.1502661556005478],\"z\":[0.027009472250938416],\"type\":\"scatter3d\"},{\"hovertemplate\":\"color=ser<br>0=%{x}<br>1=%{y}<br>2=%{z}<extra></extra>\",\"legendgroup\":\"ser\",\"marker\":{\"color\":\"#FFA15A\",\"symbol\":\"circle\"},\"mode\":\"markers\",\"name\":\"ser\",\"scene\":\"scene\",\"showlegend\":true,\"x\":[0.2731328010559082],\"y\":[0.510597288608551],\"z\":[-0.5933642983436584],\"type\":\"scatter3d\"},{\"hovertemplate\":\"color=could<br>0=%{x}<br>1=%{y}<br>2=%{z}<extra></extra>\",\"legendgroup\":\"could\",\"marker\":{\"color\":\"#19d3f3\",\"symbol\":\"circle\"},\"mode\":\"markers\",\"name\":\"could\",\"scene\":\"scene\",\"showlegend\":true,\"x\":[0.025404131039977074],\"y\":[-0.109280064702034],\"z\":[0.2642192542552948],\"type\":\"scatter3d\"},{\"hovertemplate\":\"color=man<br>0=%{x}<br>1=%{y}<br>2=%{z}<extra></extra>\",\"legendgroup\":\"man\",\"marker\":{\"color\":\"#FF6692\",\"symbol\":\"circle\"},\"mode\":\"markers\",\"name\":\"man\",\"scene\":\"scene\",\"showlegend\":true,\"x\":[0.04572654888033867],\"y\":[0.09640016406774521],\"z\":[-0.1772339940071106],\"type\":\"scatter3d\"},{\"hovertemplate\":\"color=king<br>0=%{x}<br>1=%{y}<br>2=%{z}<extra></extra>\",\"legendgroup\":\"king\",\"marker\":{\"color\":\"#B6E880\",\"symbol\":\"circle\"},\"mode\":\"markers\",\"name\":\"king\",\"scene\":\"scene\",\"showlegend\":true,\"x\":[0.3602827489376068],\"y\":[0.5212996602058411],\"z\":[-0.1517428159713745],\"type\":\"scatter3d\"},{\"hovertemplate\":\"color=men<br>0=%{x}<br>1=%{y}<br>2=%{z}<extra></extra>\",\"legendgroup\":\"men\",\"marker\":{\"color\":\"#FF97FF\",\"symbol\":\"circle\"},\"mode\":\"markers\",\"name\":\"men\",\"scene\":\"scene\",\"showlegend\":true,\"x\":[0.07369016855955124],\"y\":[0.5503657460212708],\"z\":[0.2843652367591858],\"type\":\"scatter3d\"},{\"hovertemplate\":\"color=back<br>0=%{x}<br>1=%{y}<br>2=%{z}<extra></extra>\",\"legendgroup\":\"back\",\"marker\":{\"color\":\"#FECB52\",\"symbol\":\"circle\"},\"mode\":\"markers\",\"name\":\"back\",\"scene\":\"scene\",\"showlegend\":true,\"x\":[-0.23003067076206207],\"y\":[0.04555872455239296],\"z\":[-0.025836609303951263],\"type\":\"scatter3d\"},{\"hovertemplate\":\"color=well<br>0=%{x}<br>1=%{y}<br>2=%{z}<extra></extra>\",\"legendgroup\":\"well\",\"marker\":{\"color\":\"#636efa\",\"symbol\":\"circle\"},\"mode\":\"markers\",\"name\":\"well\",\"scene\":\"scene\",\"showlegend\":true,\"x\":[0.4859897196292877],\"y\":[0.21132563054561615],\"z\":[0.15788571536540985],\"type\":\"scatter3d\"},{\"hovertemplate\":\"color=like<br>0=%{x}<br>1=%{y}<br>2=%{z}<extra></extra>\",\"legendgroup\":\"like\",\"marker\":{\"color\":\"#EF553B\",\"symbol\":\"circle\"},\"mode\":\"markers\",\"name\":\"like\",\"scene\":\"scene\",\"showlegend\":true,\"x\":[-0.23102639615535736],\"y\":[-0.1310635507106781],\"z\":[0.2189541608095169],\"type\":\"scatter3d\"},{\"hovertemplate\":\"color=jon<br>0=%{x}<br>1=%{y}<br>2=%{z}<extra></extra>\",\"legendgroup\":\"jon\",\"marker\":{\"color\":\"#00cc96\",\"symbol\":\"circle\"},\"mode\":\"markers\",\"name\":\"jon\",\"scene\":\"scene\",\"showlegend\":true,\"x\":[0.011249946430325508],\"y\":[0.007650867570191622],\"z\":[-0.1040433719754219],\"type\":\"scatter3d\"},{\"hovertemplate\":\"color=father<br>0=%{x}<br>1=%{y}<br>2=%{z}<extra></extra>\",\"legendgroup\":\"father\",\"marker\":{\"color\":\"#ab63fa\",\"symbol\":\"circle\"},\"mode\":\"markers\",\"name\":\"father\",\"scene\":\"scene\",\"showlegend\":true,\"x\":[0.6134951114654541],\"y\":[0.3272702097892761],\"z\":[-0.15117447078227997],\"type\":\"scatter3d\"},{\"hovertemplate\":\"color=old<br>0=%{x}<br>1=%{y}<br>2=%{z}<extra></extra>\",\"legendgroup\":\"old\",\"marker\":{\"color\":\"#FFA15A\",\"symbol\":\"circle\"},\"mode\":\"markers\",\"name\":\"old\",\"scene\":\"scene\",\"showlegend\":true,\"x\":[0.0037848392967134714],\"y\":[0.2879205644130707],\"z\":[-0.05725901946425438],\"type\":\"scatter3d\"},{\"hovertemplate\":\"color=hand<br>0=%{x}<br>1=%{y}<br>2=%{z}<extra></extra>\",\"legendgroup\":\"hand\",\"marker\":{\"color\":\"#19d3f3\",\"symbol\":\"circle\"},\"mode\":\"markers\",\"name\":\"hand\",\"scene\":\"scene\",\"showlegend\":true,\"x\":[-0.12869927287101746],\"y\":[0.08630090206861496],\"z\":[-0.3818463981151581],\"type\":\"scatter3d\"},{\"hovertemplate\":\"color=even<br>0=%{x}<br>1=%{y}<br>2=%{z}<extra></extra>\",\"legendgroup\":\"even\",\"marker\":{\"color\":\"#FF6692\",\"symbol\":\"circle\"},\"mode\":\"markers\",\"name\":\"even\",\"scene\":\"scene\",\"showlegend\":true,\"x\":[0.12444578856229782],\"y\":[-0.029824573546648026],\"z\":[0.4443642199039459],\"type\":\"scatter3d\"},{\"hovertemplate\":\"color=tyrion<br>0=%{x}<br>1=%{y}<br>2=%{z}<extra></extra>\",\"legendgroup\":\"tyrion\",\"marker\":{\"color\":\"#B6E880\",\"symbol\":\"circle\"},\"mode\":\"markers\",\"name\":\"tyrion\",\"scene\":\"scene\",\"showlegend\":true,\"x\":[0.08295277506113052],\"y\":[-0.20614875853061676],\"z\":[-0.27338239550590515],\"type\":\"scatter3d\"},{\"hovertemplate\":\"color=never<br>0=%{x}<br>1=%{y}<br>2=%{z}<extra></extra>\",\"legendgroup\":\"never\",\"marker\":{\"color\":\"#FF97FF\",\"symbol\":\"circle\"},\"mode\":\"markers\",\"name\":\"never\",\"scene\":\"scene\",\"showlegend\":true,\"x\":[0.4274534285068512],\"y\":[-0.15862931311130524],\"z\":[0.1550469696521759],\"type\":\"scatter3d\"},{\"hovertemplate\":\"color=see<br>0=%{x}<br>1=%{y}<br>2=%{z}<extra></extra>\",\"legendgroup\":\"see\",\"marker\":{\"color\":\"#FECB52\",\"symbol\":\"circle\"},\"mode\":\"markers\",\"name\":\"see\",\"scene\":\"scene\",\"showlegend\":true,\"x\":[0.05050661787390709],\"y\":[-0.018805762752890587],\"z\":[0.1676618456840515],\"type\":\"scatter3d\"},{\"hovertemplate\":\"color=know<br>0=%{x}<br>1=%{y}<br>2=%{z}<extra></extra>\",\"legendgroup\":\"know\",\"marker\":{\"color\":\"#636efa\",\"symbol\":\"circle\"},\"mode\":\"markers\",\"name\":\"know\",\"scene\":\"scene\",\"showlegend\":true,\"x\":[0.6658710837364197],\"y\":[-0.06935469061136246],\"z\":[0.23922868072986603],\"type\":\"scatter3d\"},{\"hovertemplate\":\"color=made<br>0=%{x}<br>1=%{y}<br>2=%{z}<extra></extra>\",\"legendgroup\":\"made\",\"marker\":{\"color\":\"#EF553B\",\"symbol\":\"circle\"},\"mode\":\"markers\",\"name\":\"made\",\"scene\":\"scene\",\"showlegend\":true,\"x\":[-0.09974817931652069],\"y\":[-0.0818927213549614],\"z\":[0.1339075267314911],\"type\":\"scatter3d\"},{\"hovertemplate\":\"color=eyes<br>0=%{x}<br>1=%{y}<br>2=%{z}<extra></extra>\",\"legendgroup\":\"eyes\",\"marker\":{\"color\":\"#00cc96\",\"symbol\":\"circle\"},\"mode\":\"markers\",\"name\":\"eyes\",\"scene\":\"scene\",\"showlegend\":true,\"x\":[-0.2618624269962311],\"y\":[-0.17617502808570862],\"z\":[-0.1973174810409546],\"type\":\"scatter3d\"},{\"hovertemplate\":\"color=black<br>0=%{x}<br>1=%{y}<br>2=%{z}<extra></extra>\",\"legendgroup\":\"black\",\"marker\":{\"color\":\"#ab63fa\",\"symbol\":\"circle\"},\"mode\":\"markers\",\"name\":\"black\",\"scene\":\"scene\",\"showlegend\":true,\"x\":[-0.42272019386291504],\"y\":[0.4298659563064575],\"z\":[-0.07437160611152649],\"type\":\"scatter3d\"},{\"hovertemplate\":\"color=told<br>0=%{x}<br>1=%{y}<br>2=%{z}<extra></extra>\",\"legendgroup\":\"told\",\"marker\":{\"color\":\"#FFA15A\",\"symbol\":\"circle\"},\"mode\":\"markers\",\"name\":\"told\",\"scene\":\"scene\",\"showlegend\":true,\"x\":[0.5000473856925964],\"y\":[-0.004875492304563522],\"z\":[0.08102923631668091],\"type\":\"scatter3d\"},{\"hovertemplate\":\"color=lady<br>0=%{x}<br>1=%{y}<br>2=%{z}<extra></extra>\",\"legendgroup\":\"lady\",\"marker\":{\"color\":\"#19d3f3\",\"symbol\":\"circle\"},\"mode\":\"markers\",\"name\":\"lady\",\"scene\":\"scene\",\"showlegend\":true,\"x\":[0.43346425890922546],\"y\":[0.3761290907859802],\"z\":[-0.5277085304260254],\"type\":\"scatter3d\"},{\"hovertemplate\":\"color=thought<br>0=%{x}<br>1=%{y}<br>2=%{z}<extra></extra>\",\"legendgroup\":\"thought\",\"marker\":{\"color\":\"#FF6692\",\"symbol\":\"circle\"},\"mode\":\"markers\",\"name\":\"thought\",\"scene\":\"scene\",\"showlegend\":true,\"x\":[0.2791826128959656],\"y\":[-0.1834266632795334],\"z\":[0.17444159090518951],\"type\":\"scatter3d\"},{\"hovertemplate\":\"color=time<br>0=%{x}<br>1=%{y}<br>2=%{z}<extra></extra>\",\"legendgroup\":\"time\",\"marker\":{\"color\":\"#B6E880\",\"symbol\":\"circle\"},\"mode\":\"markers\",\"name\":\"time\",\"scene\":\"scene\",\"showlegend\":true,\"x\":[0.012921031564474106],\"y\":[-0.0018580964533612132],\"z\":[0.2055206000804901],\"type\":\"scatter3d\"},{\"hovertemplate\":\"color=long<br>0=%{x}<br>1=%{y}<br>2=%{z}<extra></extra>\",\"legendgroup\":\"long\",\"marker\":{\"color\":\"#FF97FF\",\"symbol\":\"circle\"},\"mode\":\"markers\",\"name\":\"long\",\"scene\":\"scene\",\"showlegend\":true,\"x\":[-0.2960066795349121],\"y\":[0.270447313785553],\"z\":[0.2414502054452896],\"type\":\"scatter3d\"},{\"hovertemplate\":\"color=might<br>0=%{x}<br>1=%{y}<br>2=%{z}<extra></extra>\",\"legendgroup\":\"might\",\"marker\":{\"color\":\"#FECB52\",\"symbol\":\"circle\"},\"mode\":\"markers\",\"name\":\"might\",\"scene\":\"scene\",\"showlegend\":true,\"x\":[0.5877695679664612],\"y\":[-0.041807837784290314],\"z\":[0.25504016876220703],\"type\":\"scatter3d\"},{\"hovertemplate\":\"color=us<br>0=%{x}<br>1=%{y}<br>2=%{z}<extra></extra>\",\"legendgroup\":\"us\",\"marker\":{\"color\":\"#636efa\",\"symbol\":\"circle\"},\"mode\":\"markers\",\"name\":\"us\",\"scene\":\"scene\",\"showlegend\":true,\"x\":[0.5352425575256348],\"y\":[0.2166939079761505],\"z\":[0.29552343487739563],\"type\":\"scatter3d\"},{\"hovertemplate\":\"color=come<br>0=%{x}<br>1=%{y}<br>2=%{z}<extra></extra>\",\"legendgroup\":\"come\",\"marker\":{\"color\":\"#EF553B\",\"symbol\":\"circle\"},\"mode\":\"markers\",\"name\":\"come\",\"scene\":\"scene\",\"showlegend\":true,\"x\":[0.36999931931495667],\"y\":[0.17347128689289093],\"z\":[0.4560982286930084],\"type\":\"scatter3d\"},{\"hovertemplate\":\"color=still<br>0=%{x}<br>1=%{y}<br>2=%{z}<extra></extra>\",\"legendgroup\":\"still\",\"marker\":{\"color\":\"#00cc96\",\"symbol\":\"circle\"},\"mode\":\"markers\",\"name\":\"still\",\"scene\":\"scene\",\"showlegend\":true,\"x\":[-0.11676967144012451],\"y\":[0.10264933109283447],\"z\":[0.3548011779785156],\"type\":\"scatter3d\"},{\"hovertemplate\":\"color=face<br>0=%{x}<br>1=%{y}<br>2=%{z}<extra></extra>\",\"legendgroup\":\"face\",\"marker\":{\"color\":\"#ab63fa\",\"symbol\":\"circle\"},\"mode\":\"markers\",\"name\":\"face\",\"scene\":\"scene\",\"showlegend\":true,\"x\":[-0.35446181893348694],\"y\":[-0.2634113132953644],\"z\":[-0.3603963255882263],\"type\":\"scatter3d\"},{\"hovertemplate\":\"color=head<br>0=%{x}<br>1=%{y}<br>2=%{z}<extra></extra>\",\"legendgroup\":\"head\",\"marker\":{\"color\":\"#FFA15A\",\"symbol\":\"circle\"},\"mode\":\"markers\",\"name\":\"head\",\"scene\":\"scene\",\"showlegend\":true,\"x\":[-0.3314536511898041],\"y\":[-0.061573635786771774],\"z\":[-0.49895453453063965],\"type\":\"scatter3d\"},{\"hovertemplate\":\"color=red<br>0=%{x}<br>1=%{y}<br>2=%{z}<extra></extra>\",\"legendgroup\":\"red\",\"marker\":{\"color\":\"#19d3f3\",\"symbol\":\"circle\"},\"mode\":\"markers\",\"name\":\"red\",\"scene\":\"scene\",\"showlegend\":true,\"x\":[-0.3459260165691376],\"y\":[0.3403356373310089],\"z\":[-0.25472748279571533],\"type\":\"scatter3d\"},{\"hovertemplate\":\"color=way<br>0=%{x}<br>1=%{y}<br>2=%{z}<extra></extra>\",\"legendgroup\":\"way\",\"marker\":{\"color\":\"#FF6692\",\"symbol\":\"circle\"},\"mode\":\"markers\",\"name\":\"way\",\"scene\":\"scene\",\"showlegend\":true,\"x\":[-0.07351526618003845],\"y\":[0.025559011846780777],\"z\":[0.3277532756328583],\"type\":\"scatter3d\"},{\"hovertemplate\":\"color=boy<br>0=%{x}<br>1=%{y}<br>2=%{z}<extra></extra>\",\"legendgroup\":\"boy\",\"marker\":{\"color\":\"#B6E880\",\"symbol\":\"circle\"},\"mode\":\"markers\",\"name\":\"boy\",\"scene\":\"scene\",\"showlegend\":true,\"x\":[0.28176188468933105],\"y\":[0.19283592700958252],\"z\":[-0.3991622030735016],\"type\":\"scatter3d\"},{\"hovertemplate\":\"color=page<br>0=%{x}<br>1=%{y}<br>2=%{z}<extra></extra>\",\"legendgroup\":\"page\",\"marker\":{\"color\":\"#FF97FF\",\"symbol\":\"circle\"},\"mode\":\"markers\",\"name\":\"page\",\"scene\":\"scene\",\"showlegend\":true,\"x\":[0.155243381857872],\"y\":[0.18392464518547058],\"z\":[-0.3080154359340668],\"type\":\"scatter3d\"},{\"hovertemplate\":\"color=must<br>0=%{x}<br>1=%{y}<br>2=%{z}<extra></extra>\",\"legendgroup\":\"must\",\"marker\":{\"color\":\"#FECB52\",\"symbol\":\"circle\"},\"mode\":\"markers\",\"name\":\"must\",\"scene\":\"scene\",\"showlegend\":true,\"x\":[0.6216719746589661],\"y\":[0.06492938846349716],\"z\":[0.2758153975009918],\"type\":\"scatter3d\"},{\"hovertemplate\":\"color=queen<br>0=%{x}<br>1=%{y}<br>2=%{z}<extra></extra>\",\"legendgroup\":\"queen\",\"marker\":{\"color\":\"#636efa\",\"symbol\":\"circle\"},\"mode\":\"markers\",\"name\":\"queen\",\"scene\":\"scene\",\"showlegend\":true,\"x\":[0.47476521134376526],\"y\":[0.29902565479278564],\"z\":[-0.2646833658218384],\"type\":\"scatter3d\"},{\"hovertemplate\":\"color=good<br>0=%{x}<br>1=%{y}<br>2=%{z}<extra></extra>\",\"legendgroup\":\"good\",\"marker\":{\"color\":\"#EF553B\",\"symbol\":\"circle\"},\"mode\":\"markers\",\"name\":\"good\",\"scene\":\"scene\",\"showlegend\":true,\"x\":[0.5006382465362549],\"y\":[-0.03153096139431],\"z\":[0.1290299892425537],\"type\":\"scatter3d\"},{\"hovertemplate\":\"color=two<br>0=%{x}<br>1=%{y}<br>2=%{z}<extra></extra>\",\"legendgroup\":\"two\",\"marker\":{\"color\":\"#00cc96\",\"symbol\":\"circle\"},\"mode\":\"markers\",\"name\":\"two\",\"scene\":\"scene\",\"showlegend\":true,\"x\":[-0.1777765452861786],\"y\":[0.6387853026390076],\"z\":[0.06505132466554642],\"type\":\"scatter3d\"},{\"hovertemplate\":\"color=brother<br>0=%{x}<br>1=%{y}<br>2=%{z}<extra></extra>\",\"legendgroup\":\"brother\",\"marker\":{\"color\":\"#ab63fa\",\"symbol\":\"circle\"},\"mode\":\"markers\",\"name\":\"brother\",\"scene\":\"scene\",\"showlegend\":true,\"x\":[0.5243086814880371],\"y\":[0.4468981623649597],\"z\":[-0.34518131613731384],\"type\":\"scatter3d\"},{\"hovertemplate\":\"color=night<br>0=%{x}<br>1=%{y}<br>2=%{z}<extra></extra>\",\"legendgroup\":\"night\",\"marker\":{\"color\":\"#FFA15A\",\"symbol\":\"circle\"},\"mode\":\"markers\",\"name\":\"night\",\"scene\":\"scene\",\"showlegend\":true,\"x\":[-0.01686638407409191],\"y\":[0.17567913234233856],\"z\":[0.3098002076148987],\"type\":\"scatter3d\"},{\"hovertemplate\":\"color=little<br>0=%{x}<br>1=%{y}<br>2=%{z}<extra></extra>\",\"legendgroup\":\"little\",\"marker\":{\"color\":\"#19d3f3\",\"symbol\":\"circle\"},\"mode\":\"markers\",\"name\":\"little\",\"scene\":\"scene\",\"showlegend\":true,\"x\":[0.11626038700342178],\"y\":[-0.1283283531665802],\"z\":[-0.08448495715856552],\"type\":\"scatter3d\"},{\"hovertemplate\":\"color=took<br>0=%{x}<br>1=%{y}<br>2=%{z}<extra></extra>\",\"legendgroup\":\"took\",\"marker\":{\"color\":\"#FF6692\",\"symbol\":\"circle\"},\"mode\":\"markers\",\"name\":\"took\",\"scene\":\"scene\",\"showlegend\":true,\"x\":[-0.011198430322110653],\"y\":[0.2063474953174591],\"z\":[-0.19289831817150116],\"type\":\"scatter3d\"},{\"hovertemplate\":\"color=came<br>0=%{x}<br>1=%{y}<br>2=%{z}<extra></extra>\",\"legendgroup\":\"came\",\"marker\":{\"color\":\"#B6E880\",\"symbol\":\"circle\"},\"mode\":\"markers\",\"name\":\"came\",\"scene\":\"scene\",\"showlegend\":true,\"x\":[-0.27828913927078247],\"y\":[0.21124297380447388],\"z\":[0.3688264787197113],\"type\":\"scatter3d\"},{\"hovertemplate\":\"color=though<br>0=%{x}<br>1=%{y}<br>2=%{z}<extra></extra>\",\"legendgroup\":\"though\",\"marker\":{\"color\":\"#FF97FF\",\"symbol\":\"circle\"},\"mode\":\"markers\",\"name\":\"though\",\"scene\":\"scene\",\"showlegend\":true,\"x\":[0.17725495994091034],\"y\":[-0.144758403301239],\"z\":[0.23476794362068176],\"type\":\"scatter3d\"},{\"hovertemplate\":\"color=say<br>0=%{x}<br>1=%{y}<br>2=%{z}<extra></extra>\",\"legendgroup\":\"say\",\"marker\":{\"color\":\"#FECB52\",\"symbol\":\"circle\"},\"mode\":\"markers\",\"name\":\"say\",\"scene\":\"scene\",\"showlegend\":true,\"x\":[0.6067217588424683],\"y\":[-0.17471852898597717],\"z\":[0.119329534471035],\"type\":\"scatter3d\"},{\"hovertemplate\":\"color=three<br>0=%{x}<br>1=%{y}<br>2=%{z}<extra></extra>\",\"legendgroup\":\"three\",\"marker\":{\"color\":\"#636efa\",\"symbol\":\"circle\"},\"mode\":\"markers\",\"name\":\"three\",\"scene\":\"scene\",\"showlegend\":true,\"x\":[-0.09514812380075455],\"y\":[0.7184939384460449],\"z\":[0.11982013285160065],\"type\":\"scatter3d\"},{\"hovertemplate\":\"color=away<br>0=%{x}<br>1=%{y}<br>2=%{z}<extra></extra>\",\"legendgroup\":\"away\",\"marker\":{\"color\":\"#EF553B\",\"symbol\":\"circle\"},\"mode\":\"markers\",\"name\":\"away\",\"scene\":\"scene\",\"showlegend\":true,\"x\":[-0.2795851230621338],\"y\":[-0.1347084641456604],\"z\":[0.08739377558231354],\"type\":\"scatter3d\"},{\"hovertemplate\":\"color=dead<br>0=%{x}<br>1=%{y}<br>2=%{z}<extra></extra>\",\"legendgroup\":\"dead\",\"marker\":{\"color\":\"#00cc96\",\"symbol\":\"circle\"},\"mode\":\"markers\",\"name\":\"dead\",\"scene\":\"scene\",\"showlegend\":true,\"x\":[0.04910288378596306],\"y\":[0.15662214159965515],\"z\":[0.2318858802318573],\"type\":\"scatter3d\"},{\"hovertemplate\":\"color=son<br>0=%{x}<br>1=%{y}<br>2=%{z}<extra></extra>\",\"legendgroup\":\"son\",\"marker\":{\"color\":\"#ab63fa\",\"symbol\":\"circle\"},\"mode\":\"markers\",\"name\":\"son\",\"scene\":\"scene\",\"showlegend\":true,\"x\":[0.4370555877685547],\"y\":[0.6719452738761902],\"z\":[-0.5246602296829224],\"type\":\"scatter3d\"},{\"hovertemplate\":\"color=blood<br>0=%{x}<br>1=%{y}<br>2=%{z}<extra></extra>\",\"legendgroup\":\"blood\",\"marker\":{\"color\":\"#FFA15A\",\"symbol\":\"circle\"},\"mode\":\"markers\",\"name\":\"blood\",\"scene\":\"scene\",\"showlegend\":true,\"x\":[-0.24372415244579315],\"y\":[-0.1170356497168541],\"z\":[0.005659312941133976],\"type\":\"scatter3d\"},{\"hovertemplate\":\"color=take<br>0=%{x}<br>1=%{y}<br>2=%{z}<extra></extra>\",\"legendgroup\":\"take\",\"marker\":{\"color\":\"#19d3f3\",\"symbol\":\"circle\"},\"mode\":\"markers\",\"name\":\"take\",\"scene\":\"scene\",\"showlegend\":true,\"x\":[0.4472469985485077],\"y\":[0.17128439247608185],\"z\":[0.13537150621414185],\"type\":\"scatter3d\"},{\"hovertemplate\":\"color=go<br>0=%{x}<br>1=%{y}<br>2=%{z}<extra></extra>\",\"legendgroup\":\"go\",\"marker\":{\"color\":\"#FF6692\",\"symbol\":\"circle\"},\"mode\":\"markers\",\"name\":\"go\",\"scene\":\"scene\",\"showlegend\":true,\"x\":[0.28286704421043396],\"y\":[-0.1385010927915573],\"z\":[0.3724302053451538],\"type\":\"scatter3d\"},{\"hovertemplate\":\"color=half<br>0=%{x}<br>1=%{y}<br>2=%{z}<extra></extra>\",\"legendgroup\":\"half\",\"marker\":{\"color\":\"#B6E880\",\"symbol\":\"circle\"},\"mode\":\"markers\",\"name\":\"half\",\"scene\":\"scene\",\"showlegend\":true,\"x\":[-0.2288494110107422],\"y\":[0.23905570805072784],\"z\":[0.2658476233482361],\"type\":\"scatter3d\"},{\"hovertemplate\":\"color=make<br>0=%{x}<br>1=%{y}<br>2=%{z}<extra></extra>\",\"legendgroup\":\"make\",\"marker\":{\"color\":\"#FF97FF\",\"symbol\":\"circle\"},\"mode\":\"markers\",\"name\":\"make\",\"scene\":\"scene\",\"showlegend\":true,\"x\":[0.40720805525779724],\"y\":[-0.17405863106250763],\"z\":[0.28948843479156494],\"type\":\"scatter3d\"},{\"hovertemplate\":\"color=arya<br>0=%{x}<br>1=%{y}<br>2=%{z}<extra></extra>\",\"legendgroup\":\"arya\",\"marker\":{\"color\":\"#FECB52\",\"symbol\":\"circle\"},\"mode\":\"markers\",\"name\":\"arya\",\"scene\":\"scene\",\"showlegend\":true,\"x\":[-0.1173500046133995],\"y\":[-0.3636021912097931],\"z\":[0.03763854503631592],\"type\":\"scatter3d\"},{\"hovertemplate\":\"color=saw<br>0=%{x}<br>1=%{y}<br>2=%{z}<extra></extra>\",\"legendgroup\":\"saw\",\"marker\":{\"color\":\"#636efa\",\"symbol\":\"circle\"},\"mode\":\"markers\",\"name\":\"saw\",\"scene\":\"scene\",\"showlegend\":true,\"x\":[-0.33158162236213684],\"y\":[0.11662566661834717],\"z\":[0.0903158038854599],\"type\":\"scatter3d\"},{\"hovertemplate\":\"color=day<br>0=%{x}<br>1=%{y}<br>2=%{z}<extra></extra>\",\"legendgroup\":\"day\",\"marker\":{\"color\":\"#EF553B\",\"symbol\":\"circle\"},\"mode\":\"markers\",\"name\":\"day\",\"scene\":\"scene\",\"showlegend\":true,\"x\":[0.08487632870674133],\"y\":[0.25085029006004333],\"z\":[0.37078842520713806],\"type\":\"scatter3d\"},{\"hovertemplate\":\"color=white<br>0=%{x}<br>1=%{y}<br>2=%{z}<extra></extra>\",\"legendgroup\":\"white\",\"marker\":{\"color\":\"#00cc96\",\"symbol\":\"circle\"},\"mode\":\"markers\",\"name\":\"white\",\"scene\":\"scene\",\"showlegend\":true,\"x\":[-0.39502090215682983],\"y\":[0.5099915266036987],\"z\":[-0.3276423513889313],\"type\":\"scatter3d\"},{\"hovertemplate\":\"color=jaime<br>0=%{x}<br>1=%{y}<br>2=%{z}<extra></extra>\",\"legendgroup\":\"jaime\",\"marker\":{\"color\":\"#ab63fa\",\"symbol\":\"circle\"},\"mode\":\"markers\",\"name\":\"jaime\",\"scene\":\"scene\",\"showlegend\":true,\"x\":[0.2242177277803421],\"y\":[0.1143486499786377],\"z\":[-0.35460254549980164],\"type\":\"scatter3d\"},{\"hovertemplate\":\"color=first<br>0=%{x}<br>1=%{y}<br>2=%{z}<extra></extra>\",\"legendgroup\":\"first\",\"marker\":{\"color\":\"#FFA15A\",\"symbol\":\"circle\"},\"mode\":\"markers\",\"name\":\"first\",\"scene\":\"scene\",\"showlegend\":true,\"x\":[0.18151989579200745],\"y\":[0.4139882028102875],\"z\":[0.15861625969409943],\"type\":\"scatter3d\"},{\"hovertemplate\":\"color=look<br>0=%{x}<br>1=%{y}<br>2=%{z}<extra></extra>\",\"legendgroup\":\"look\",\"marker\":{\"color\":\"#19d3f3\",\"symbol\":\"circle\"},\"mode\":\"markers\",\"name\":\"look\",\"scene\":\"scene\",\"showlegend\":true,\"x\":[-0.0008319304906763136],\"y\":[-0.24434806406497955],\"z\":[-0.12547548115253448],\"type\":\"scatter3d\"},{\"hovertemplate\":\"color=want<br>0=%{x}<br>1=%{y}<br>2=%{z}<extra></extra>\",\"legendgroup\":\"want\",\"marker\":{\"color\":\"#FF6692\",\"symbol\":\"circle\"},\"mode\":\"markers\",\"name\":\"want\",\"scene\":\"scene\",\"showlegend\":true,\"x\":[0.5433881878852844],\"y\":[-0.18896962702274323],\"z\":[0.20165033638477325],\"type\":\"scatter3d\"},{\"hovertemplate\":\"color=much<br>0=%{x}<br>1=%{y}<br>2=%{z}<extra></extra>\",\"legendgroup\":\"much\",\"marker\":{\"color\":\"#B6E880\",\"symbol\":\"circle\"},\"mode\":\"markers\",\"name\":\"much\",\"scene\":\"scene\",\"showlegend\":true,\"x\":[0.49138423800468445],\"y\":[-0.21329732239246368],\"z\":[0.26179802417755127],\"type\":\"scatter3d\"},{\"hovertemplate\":\"color=enough<br>0=%{x}<br>1=%{y}<br>2=%{z}<extra></extra>\",\"legendgroup\":\"enough\",\"marker\":{\"color\":\"#FF97FF\",\"symbol\":\"circle\"},\"mode\":\"markers\",\"name\":\"enough\",\"scene\":\"scene\",\"showlegend\":true,\"x\":[0.17950387299060822],\"y\":[-0.05669073387980461],\"z\":[0.3379470407962799],\"type\":\"scatter3d\"},{\"hovertemplate\":\"color=sword<br>0=%{x}<br>1=%{y}<br>2=%{z}<extra></extra>\",\"legendgroup\":\"sword\",\"marker\":{\"color\":\"#FECB52\",\"symbol\":\"circle\"},\"mode\":\"markers\",\"name\":\"sword\",\"scene\":\"scene\",\"showlegend\":true,\"x\":[-0.12698188424110413],\"y\":[0.1310432106256485],\"z\":[-0.28228315711021423],\"type\":\"scatter3d\"},{\"hovertemplate\":\"color=tell<br>0=%{x}<br>1=%{y}<br>2=%{z}<extra></extra>\",\"legendgroup\":\"tell\",\"marker\":{\"color\":\"#636efa\",\"symbol\":\"circle\"},\"mode\":\"markers\",\"name\":\"tell\",\"scene\":\"scene\",\"showlegend\":true,\"x\":[0.6518632769584656],\"y\":[-0.16163270175457],\"z\":[0.17287755012512207],\"type\":\"scatter3d\"},{\"hovertemplate\":\"color=girl<br>0=%{x}<br>1=%{y}<br>2=%{z}<extra></extra>\",\"legendgroup\":\"girl\",\"marker\":{\"color\":\"#EF553B\",\"symbol\":\"circle\"},\"mode\":\"markers\",\"name\":\"girl\",\"scene\":\"scene\",\"showlegend\":true,\"x\":[0.23860305547714233],\"y\":[0.017435140907764435],\"z\":[-0.32135021686553955],\"type\":\"scatter3d\"},{\"hovertemplate\":\"color=bran<br>0=%{x}<br>1=%{y}<br>2=%{z}<extra></extra>\",\"legendgroup\":\"bran\",\"marker\":{\"color\":\"#00cc96\",\"symbol\":\"circle\"},\"mode\":\"markers\",\"name\":\"bran\",\"scene\":\"scene\",\"showlegend\":true,\"x\":[-0.08224072307348251],\"y\":[-0.29346099495887756],\"z\":[0.1375635713338852],\"type\":\"scatter3d\"},{\"hovertemplate\":\"color=great<br>0=%{x}<br>1=%{y}<br>2=%{z}<extra></extra>\",\"legendgroup\":\"great\",\"marker\":{\"color\":\"#ab63fa\",\"symbol\":\"circle\"},\"mode\":\"markers\",\"name\":\"great\",\"scene\":\"scene\",\"showlegend\":true,\"x\":[-0.15921948850154877],\"y\":[0.7926467657089233],\"z\":[0.16010913252830505],\"type\":\"scatter3d\"},{\"hovertemplate\":\"color=looked<br>0=%{x}<br>1=%{y}<br>2=%{z}<extra></extra>\",\"legendgroup\":\"looked\",\"marker\":{\"color\":\"#FFA15A\",\"symbol\":\"circle\"},\"mode\":\"markers\",\"name\":\"looked\",\"scene\":\"scene\",\"showlegend\":true,\"x\":[-0.21420453488826752],\"y\":[-0.056427523493766785],\"z\":[-0.19507740437984467],\"type\":\"scatter3d\"},{\"hovertemplate\":\"color=left<br>0=%{x}<br>1=%{y}<br>2=%{z}<extra></extra>\",\"legendgroup\":\"left\",\"marker\":{\"color\":\"#19d3f3\",\"symbol\":\"circle\"},\"mode\":\"markers\",\"name\":\"left\",\"scene\":\"scene\",\"showlegend\":true,\"x\":[-0.24429240822792053],\"y\":[0.3009146451950073],\"z\":[0.005902471486479044],\"type\":\"scatter3d\"},{\"hovertemplate\":\"color=knew<br>0=%{x}<br>1=%{y}<br>2=%{z}<extra></extra>\",\"legendgroup\":\"knew\",\"marker\":{\"color\":\"#FF6692\",\"symbol\":\"circle\"},\"mode\":\"markers\",\"name\":\"knew\",\"scene\":\"scene\",\"showlegend\":true,\"x\":[0.3180016875267029],\"y\":[-0.16174787282943726],\"z\":[0.37443414330482483],\"type\":\"scatter3d\"},{\"hovertemplate\":\"color=asked<br>0=%{x}<br>1=%{y}<br>2=%{z}<extra></extra>\",\"legendgroup\":\"asked\",\"marker\":{\"color\":\"#B6E880\",\"symbol\":\"circle\"},\"mode\":\"markers\",\"name\":\"asked\",\"scene\":\"scene\",\"showlegend\":true,\"x\":[0.5164957046508789],\"y\":[-0.022192850708961487],\"z\":[-0.2740795910358429],\"type\":\"scatter3d\"},{\"hovertemplate\":\"color=gave<br>0=%{x}<br>1=%{y}<br>2=%{z}<extra></extra>\",\"legendgroup\":\"gave\",\"marker\":{\"color\":\"#FF97FF\",\"symbol\":\"circle\"},\"mode\":\"markers\",\"name\":\"gave\",\"scene\":\"scene\",\"showlegend\":true,\"x\":[0.06961492449045181],\"y\":[-0.19600032269954681],\"z\":[-0.5015144944190979],\"type\":\"scatter3d\"},{\"hovertemplate\":\"color=maester<br>0=%{x}<br>1=%{y}<br>2=%{z}<extra></extra>\",\"legendgroup\":\"maester\",\"marker\":{\"color\":\"#FECB52\",\"symbol\":\"circle\"},\"mode\":\"markers\",\"name\":\"maester\",\"scene\":\"scene\",\"showlegend\":true,\"x\":[0.165738046169281],\"y\":[0.22403064370155334],\"z\":[-0.3548944890499115],\"type\":\"scatter3d\"},{\"hovertemplate\":\"color=called<br>0=%{x}<br>1=%{y}<br>2=%{z}<extra></extra>\",\"legendgroup\":\"called\",\"marker\":{\"color\":\"#636efa\",\"symbol\":\"circle\"},\"mode\":\"markers\",\"name\":\"called\",\"scene\":\"scene\",\"showlegend\":true,\"x\":[0.21287915110588074],\"y\":[0.6617612242698669],\"z\":[-0.46170270442962646],\"type\":\"scatter3d\"},{\"hovertemplate\":\"color=wall<br>0=%{x}<br>1=%{y}<br>2=%{z}<extra></extra>\",\"legendgroup\":\"wall\",\"marker\":{\"color\":\"#EF553B\",\"symbol\":\"circle\"},\"mode\":\"markers\",\"name\":\"wall\",\"scene\":\"scene\",\"showlegend\":true,\"x\":[-0.24078857898712158],\"y\":[0.37370145320892334],\"z\":[0.46354424953460693],\"type\":\"scatter3d\"},{\"hovertemplate\":\"color=every<br>0=%{x}<br>1=%{y}<br>2=%{z}<extra></extra>\",\"legendgroup\":\"every\",\"marker\":{\"color\":\"#00cc96\",\"symbol\":\"circle\"},\"mode\":\"markers\",\"name\":\"every\",\"scene\":\"scene\",\"showlegend\":true,\"x\":[-0.12242341041564941],\"y\":[0.24479550123214722],\"z\":[0.34361812472343445],\"type\":\"scatter3d\"},{\"hovertemplate\":\"color=heard<br>0=%{x}<br>1=%{y}<br>2=%{z}<extra></extra>\",\"legendgroup\":\"heard\",\"marker\":{\"color\":\"#ab63fa\",\"symbol\":\"circle\"},\"mode\":\"markers\",\"name\":\"heard\",\"scene\":\"scene\",\"showlegend\":true,\"x\":[0.020352916792035103],\"y\":[-0.09778642654418945],\"z\":[0.2339801788330078],\"type\":\"scatter3d\"},{\"hovertemplate\":\"color=sansa<br>0=%{x}<br>1=%{y}<br>2=%{z}<extra></extra>\",\"legendgroup\":\"sansa\",\"marker\":{\"color\":\"#FFA15A\",\"symbol\":\"circle\"},\"mode\":\"markers\",\"name\":\"sansa\",\"scene\":\"scene\",\"showlegend\":true,\"x\":[0.1801951378583908],\"y\":[-0.29018232226371765],\"z\":[-0.29298022389411926],\"type\":\"scatter3d\"},{\"hovertemplate\":\"color=let<br>0=%{x}<br>1=%{y}<br>2=%{z}<extra></extra>\",\"legendgroup\":\"let\",\"marker\":{\"color\":\"#19d3f3\",\"symbol\":\"circle\"},\"mode\":\"markers\",\"name\":\"let\",\"scene\":\"scene\",\"showlegend\":true,\"x\":[0.23343060910701752],\"y\":[-0.21689799427986145],\"z\":[0.19090546667575836],\"type\":\"scatter3d\"},{\"hovertemplate\":\"color=yet<br>0=%{x}<br>1=%{y}<br>2=%{z}<extra></extra>\",\"legendgroup\":\"yet\",\"marker\":{\"color\":\"#FF6692\",\"symbol\":\"circle\"},\"mode\":\"markers\",\"name\":\"yet\",\"scene\":\"scene\",\"showlegend\":true,\"x\":[0.2711443603038788],\"y\":[-0.0031689780298620462],\"z\":[0.42915108799934387],\"type\":\"scatter3d\"},{\"hovertemplate\":\"color=went<br>0=%{x}<br>1=%{y}<br>2=%{z}<extra></extra>\",\"legendgroup\":\"went\",\"marker\":{\"color\":\"#B6E880\",\"symbol\":\"circle\"},\"mode\":\"markers\",\"name\":\"went\",\"scene\":\"scene\",\"showlegend\":true,\"x\":[-0.36854374408721924],\"y\":[0.08275957405567169],\"z\":[0.14275413751602173],\"type\":\"scatter3d\"},{\"hovertemplate\":\"color=turned<br>0=%{x}<br>1=%{y}<br>2=%{z}<extra></extra>\",\"legendgroup\":\"turned\",\"marker\":{\"color\":\"#FF97FF\",\"symbol\":\"circle\"},\"mode\":\"markers\",\"name\":\"turned\",\"scene\":\"scene\",\"showlegend\":true,\"x\":[-0.2919255197048187],\"y\":[0.07371614128351212],\"z\":[-0.2406698763370514],\"type\":\"scatter3d\"},{\"hovertemplate\":\"color=dany<br>0=%{x}<br>1=%{y}<br>2=%{z}<extra></extra>\",\"legendgroup\":\"dany\",\"marker\":{\"color\":\"#FECB52\",\"symbol\":\"circle\"},\"mode\":\"markers\",\"name\":\"dany\",\"scene\":\"scene\",\"showlegend\":true,\"x\":[-0.10933718085289001],\"y\":[-0.15517355501651764],\"z\":[0.01693599298596382],\"type\":\"scatter3d\"},{\"hovertemplate\":\"color=behind<br>0=%{x}<br>1=%{y}<br>2=%{z}<extra></extra>\",\"legendgroup\":\"behind\",\"marker\":{\"color\":\"#636efa\",\"symbol\":\"circle\"},\"mode\":\"markers\",\"name\":\"behind\",\"scene\":\"scene\",\"showlegend\":true,\"x\":[-0.5481261610984802],\"y\":[0.4186214208602905],\"z\":[0.08451937139034271],\"type\":\"scatter3d\"},{\"hovertemplate\":\"color=need<br>0=%{x}<br>1=%{y}<br>2=%{z}<extra></extra>\",\"legendgroup\":\"need\",\"marker\":{\"color\":\"#EF553B\",\"symbol\":\"circle\"},\"mode\":\"markers\",\"name\":\"need\",\"scene\":\"scene\",\"showlegend\":true,\"x\":[0.47847679257392883],\"y\":[0.061722662299871445],\"z\":[0.31577134132385254],\"type\":\"scatter3d\"},{\"hovertemplate\":\"color=around<br>0=%{x}<br>1=%{y}<br>2=%{z}<extra></extra>\",\"legendgroup\":\"around\",\"marker\":{\"color\":\"#00cc96\",\"symbol\":\"circle\"},\"mode\":\"markers\",\"name\":\"around\",\"scene\":\"scene\",\"showlegend\":true,\"x\":[-0.7545366883277893],\"y\":[0.12563495337963104],\"z\":[0.049643680453300476],\"type\":\"scatter3d\"},{\"hovertemplate\":\"color=woman<br>0=%{x}<br>1=%{y}<br>2=%{z}<extra></extra>\",\"legendgroup\":\"woman\",\"marker\":{\"color\":\"#ab63fa\",\"symbol\":\"circle\"},\"mode\":\"markers\",\"name\":\"woman\",\"scene\":\"scene\",\"showlegend\":true,\"x\":[0.06316021829843521],\"y\":[-0.1161438450217247],\"z\":[-0.2174212634563446],\"type\":\"scatter3d\"},{\"hovertemplate\":\"color=another<br>0=%{x}<br>1=%{y}<br>2=%{z}<extra></extra>\",\"legendgroup\":\"another\",\"marker\":{\"color\":\"#FFA15A\",\"symbol\":\"circle\"},\"mode\":\"markers\",\"name\":\"another\",\"scene\":\"scene\",\"showlegend\":true,\"x\":[-0.0320865772664547],\"y\":[0.069725401699543],\"z\":[0.1585317701101303],\"type\":\"scatter3d\"},{\"hovertemplate\":\"color=snow<br>0=%{x}<br>1=%{y}<br>2=%{z}<extra></extra>\",\"legendgroup\":\"snow\",\"marker\":{\"color\":\"#19d3f3\",\"symbol\":\"circle\"},\"mode\":\"markers\",\"name\":\"snow\",\"scene\":\"scene\",\"showlegend\":true,\"x\":[-0.27681100368499756],\"y\":[0.04783710464835167],\"z\":[0.0678137019276619],\"type\":\"scatter3d\"},{\"hovertemplate\":\"color=beneath<br>0=%{x}<br>1=%{y}<br>2=%{z}<extra></extra>\",\"legendgroup\":\"beneath\",\"marker\":{\"color\":\"#FF6692\",\"symbol\":\"circle\"},\"mode\":\"markers\",\"name\":\"beneath\",\"scene\":\"scene\",\"showlegend\":true,\"x\":[-0.7424320578575134],\"y\":[0.3432939350605011],\"z\":[0.14892500638961792],\"type\":\"scatter3d\"},{\"hovertemplate\":\"color=across<br>0=%{x}<br>1=%{y}<br>2=%{z}<extra></extra>\",\"legendgroup\":\"across\",\"marker\":{\"color\":\"#B6E880\",\"symbol\":\"circle\"},\"mode\":\"markers\",\"name\":\"across\",\"scene\":\"scene\",\"showlegend\":true,\"x\":[-0.678010880947113],\"y\":[0.3096669912338257],\"z\":[0.05956551805138588],\"type\":\"scatter3d\"},{\"hovertemplate\":\"color=knight<br>0=%{x}<br>1=%{y}<br>2=%{z}<extra></extra>\",\"legendgroup\":\"knight\",\"marker\":{\"color\":\"#FF97FF\",\"symbol\":\"circle\"},\"mode\":\"markers\",\"name\":\"knight\",\"scene\":\"scene\",\"showlegend\":true,\"x\":[0.24153919517993927],\"y\":[0.44782039523124695],\"z\":[-0.6206858158111572],\"type\":\"scatter3d\"},{\"hovertemplate\":\"color=keep<br>0=%{x}<br>1=%{y}<br>2=%{z}<extra></extra>\",\"legendgroup\":\"keep\",\"marker\":{\"color\":\"#FECB52\",\"symbol\":\"circle\"},\"mode\":\"markers\",\"name\":\"keep\",\"scene\":\"scene\",\"showlegend\":true,\"x\":[0.07308177649974823],\"y\":[0.2409590631723404],\"z\":[0.32451996207237244],\"type\":\"scatter3d\"}],                        {\"template\":{\"data\":{\"histogram2dcontour\":[{\"type\":\"histogram2dcontour\",\"colorbar\":{\"outlinewidth\":0,\"ticks\":\"\"},\"colorscale\":[[0.0,\"#0d0887\"],[0.1111111111111111,\"#46039f\"],[0.2222222222222222,\"#7201a8\"],[0.3333333333333333,\"#9c179e\"],[0.4444444444444444,\"#bd3786\"],[0.5555555555555556,\"#d8576b\"],[0.6666666666666666,\"#ed7953\"],[0.7777777777777778,\"#fb9f3a\"],[0.8888888888888888,\"#fdca26\"],[1.0,\"#f0f921\"]]}],\"choropleth\":[{\"type\":\"choropleth\",\"colorbar\":{\"outlinewidth\":0,\"ticks\":\"\"}}],\"histogram2d\":[{\"type\":\"histogram2d\",\"colorbar\":{\"outlinewidth\":0,\"ticks\":\"\"},\"colorscale\":[[0.0,\"#0d0887\"],[0.1111111111111111,\"#46039f\"],[0.2222222222222222,\"#7201a8\"],[0.3333333333333333,\"#9c179e\"],[0.4444444444444444,\"#bd3786\"],[0.5555555555555556,\"#d8576b\"],[0.6666666666666666,\"#ed7953\"],[0.7777777777777778,\"#fb9f3a\"],[0.8888888888888888,\"#fdca26\"],[1.0,\"#f0f921\"]]}],\"heatmap\":[{\"type\":\"heatmap\",\"colorbar\":{\"outlinewidth\":0,\"ticks\":\"\"},\"colorscale\":[[0.0,\"#0d0887\"],[0.1111111111111111,\"#46039f\"],[0.2222222222222222,\"#7201a8\"],[0.3333333333333333,\"#9c179e\"],[0.4444444444444444,\"#bd3786\"],[0.5555555555555556,\"#d8576b\"],[0.6666666666666666,\"#ed7953\"],[0.7777777777777778,\"#fb9f3a\"],[0.8888888888888888,\"#fdca26\"],[1.0,\"#f0f921\"]]}],\"heatmapgl\":[{\"type\":\"heatmapgl\",\"colorbar\":{\"outlinewidth\":0,\"ticks\":\"\"},\"colorscale\":[[0.0,\"#0d0887\"],[0.1111111111111111,\"#46039f\"],[0.2222222222222222,\"#7201a8\"],[0.3333333333333333,\"#9c179e\"],[0.4444444444444444,\"#bd3786\"],[0.5555555555555556,\"#d8576b\"],[0.6666666666666666,\"#ed7953\"],[0.7777777777777778,\"#fb9f3a\"],[0.8888888888888888,\"#fdca26\"],[1.0,\"#f0f921\"]]}],\"contourcarpet\":[{\"type\":\"contourcarpet\",\"colorbar\":{\"outlinewidth\":0,\"ticks\":\"\"}}],\"contour\":[{\"type\":\"contour\",\"colorbar\":{\"outlinewidth\":0,\"ticks\":\"\"},\"colorscale\":[[0.0,\"#0d0887\"],[0.1111111111111111,\"#46039f\"],[0.2222222222222222,\"#7201a8\"],[0.3333333333333333,\"#9c179e\"],[0.4444444444444444,\"#bd3786\"],[0.5555555555555556,\"#d8576b\"],[0.6666666666666666,\"#ed7953\"],[0.7777777777777778,\"#fb9f3a\"],[0.8888888888888888,\"#fdca26\"],[1.0,\"#f0f921\"]]}],\"surface\":[{\"type\":\"surface\",\"colorbar\":{\"outlinewidth\":0,\"ticks\":\"\"},\"colorscale\":[[0.0,\"#0d0887\"],[0.1111111111111111,\"#46039f\"],[0.2222222222222222,\"#7201a8\"],[0.3333333333333333,\"#9c179e\"],[0.4444444444444444,\"#bd3786\"],[0.5555555555555556,\"#d8576b\"],[0.6666666666666666,\"#ed7953\"],[0.7777777777777778,\"#fb9f3a\"],[0.8888888888888888,\"#fdca26\"],[1.0,\"#f0f921\"]]}],\"mesh3d\":[{\"type\":\"mesh3d\",\"colorbar\":{\"outlinewidth\":0,\"ticks\":\"\"}}],\"scatter\":[{\"fillpattern\":{\"fillmode\":\"overlay\",\"size\":10,\"solidity\":0.2},\"type\":\"scatter\"}],\"parcoords\":[{\"type\":\"parcoords\",\"line\":{\"colorbar\":{\"outlinewidth\":0,\"ticks\":\"\"}}}],\"scatterpolargl\":[{\"type\":\"scatterpolargl\",\"marker\":{\"colorbar\":{\"outlinewidth\":0,\"ticks\":\"\"}}}],\"bar\":[{\"error_x\":{\"color\":\"#2a3f5f\"},\"error_y\":{\"color\":\"#2a3f5f\"},\"marker\":{\"line\":{\"color\":\"#E5ECF6\",\"width\":0.5},\"pattern\":{\"fillmode\":\"overlay\",\"size\":10,\"solidity\":0.2}},\"type\":\"bar\"}],\"scattergeo\":[{\"type\":\"scattergeo\",\"marker\":{\"colorbar\":{\"outlinewidth\":0,\"ticks\":\"\"}}}],\"scatterpolar\":[{\"type\":\"scatterpolar\",\"marker\":{\"colorbar\":{\"outlinewidth\":0,\"ticks\":\"\"}}}],\"histogram\":[{\"marker\":{\"pattern\":{\"fillmode\":\"overlay\",\"size\":10,\"solidity\":0.2}},\"type\":\"histogram\"}],\"scattergl\":[{\"type\":\"scattergl\",\"marker\":{\"colorbar\":{\"outlinewidth\":0,\"ticks\":\"\"}}}],\"scatter3d\":[{\"type\":\"scatter3d\",\"line\":{\"colorbar\":{\"outlinewidth\":0,\"ticks\":\"\"}},\"marker\":{\"colorbar\":{\"outlinewidth\":0,\"ticks\":\"\"}}}],\"scattermapbox\":[{\"type\":\"scattermapbox\",\"marker\":{\"colorbar\":{\"outlinewidth\":0,\"ticks\":\"\"}}}],\"scatterternary\":[{\"type\":\"scatterternary\",\"marker\":{\"colorbar\":{\"outlinewidth\":0,\"ticks\":\"\"}}}],\"scattercarpet\":[{\"type\":\"scattercarpet\",\"marker\":{\"colorbar\":{\"outlinewidth\":0,\"ticks\":\"\"}}}],\"carpet\":[{\"aaxis\":{\"endlinecolor\":\"#2a3f5f\",\"gridcolor\":\"white\",\"linecolor\":\"white\",\"minorgridcolor\":\"white\",\"startlinecolor\":\"#2a3f5f\"},\"baxis\":{\"endlinecolor\":\"#2a3f5f\",\"gridcolor\":\"white\",\"linecolor\":\"white\",\"minorgridcolor\":\"white\",\"startlinecolor\":\"#2a3f5f\"},\"type\":\"carpet\"}],\"table\":[{\"cells\":{\"fill\":{\"color\":\"#EBF0F8\"},\"line\":{\"color\":\"white\"}},\"header\":{\"fill\":{\"color\":\"#C8D4E3\"},\"line\":{\"color\":\"white\"}},\"type\":\"table\"}],\"barpolar\":[{\"marker\":{\"line\":{\"color\":\"#E5ECF6\",\"width\":0.5},\"pattern\":{\"fillmode\":\"overlay\",\"size\":10,\"solidity\":0.2}},\"type\":\"barpolar\"}],\"pie\":[{\"automargin\":true,\"type\":\"pie\"}]},\"layout\":{\"autotypenumbers\":\"strict\",\"colorway\":[\"#636efa\",\"#EF553B\",\"#00cc96\",\"#ab63fa\",\"#FFA15A\",\"#19d3f3\",\"#FF6692\",\"#B6E880\",\"#FF97FF\",\"#FECB52\"],\"font\":{\"color\":\"#2a3f5f\"},\"hovermode\":\"closest\",\"hoverlabel\":{\"align\":\"left\"},\"paper_bgcolor\":\"white\",\"plot_bgcolor\":\"#E5ECF6\",\"polar\":{\"bgcolor\":\"#E5ECF6\",\"angularaxis\":{\"gridcolor\":\"white\",\"linecolor\":\"white\",\"ticks\":\"\"},\"radialaxis\":{\"gridcolor\":\"white\",\"linecolor\":\"white\",\"ticks\":\"\"}},\"ternary\":{\"bgcolor\":\"#E5ECF6\",\"aaxis\":{\"gridcolor\":\"white\",\"linecolor\":\"white\",\"ticks\":\"\"},\"baxis\":{\"gridcolor\":\"white\",\"linecolor\":\"white\",\"ticks\":\"\"},\"caxis\":{\"gridcolor\":\"white\",\"linecolor\":\"white\",\"ticks\":\"\"}},\"coloraxis\":{\"colorbar\":{\"outlinewidth\":0,\"ticks\":\"\"}},\"colorscale\":{\"sequential\":[[0.0,\"#0d0887\"],[0.1111111111111111,\"#46039f\"],[0.2222222222222222,\"#7201a8\"],[0.3333333333333333,\"#9c179e\"],[0.4444444444444444,\"#bd3786\"],[0.5555555555555556,\"#d8576b\"],[0.6666666666666666,\"#ed7953\"],[0.7777777777777778,\"#fb9f3a\"],[0.8888888888888888,\"#fdca26\"],[1.0,\"#f0f921\"]],\"sequentialminus\":[[0.0,\"#0d0887\"],[0.1111111111111111,\"#46039f\"],[0.2222222222222222,\"#7201a8\"],[0.3333333333333333,\"#9c179e\"],[0.4444444444444444,\"#bd3786\"],[0.5555555555555556,\"#d8576b\"],[0.6666666666666666,\"#ed7953\"],[0.7777777777777778,\"#fb9f3a\"],[0.8888888888888888,\"#fdca26\"],[1.0,\"#f0f921\"]],\"diverging\":[[0,\"#8e0152\"],[0.1,\"#c51b7d\"],[0.2,\"#de77ae\"],[0.3,\"#f1b6da\"],[0.4,\"#fde0ef\"],[0.5,\"#f7f7f7\"],[0.6,\"#e6f5d0\"],[0.7,\"#b8e186\"],[0.8,\"#7fbc41\"],[0.9,\"#4d9221\"],[1,\"#276419\"]]},\"xaxis\":{\"gridcolor\":\"white\",\"linecolor\":\"white\",\"ticks\":\"\",\"title\":{\"standoff\":15},\"zerolinecolor\":\"white\",\"automargin\":true,\"zerolinewidth\":2},\"yaxis\":{\"gridcolor\":\"white\",\"linecolor\":\"white\",\"ticks\":\"\",\"title\":{\"standoff\":15},\"zerolinecolor\":\"white\",\"automargin\":true,\"zerolinewidth\":2},\"scene\":{\"xaxis\":{\"backgroundcolor\":\"#E5ECF6\",\"gridcolor\":\"white\",\"linecolor\":\"white\",\"showbackground\":true,\"ticks\":\"\",\"zerolinecolor\":\"white\",\"gridwidth\":2},\"yaxis\":{\"backgroundcolor\":\"#E5ECF6\",\"gridcolor\":\"white\",\"linecolor\":\"white\",\"showbackground\":true,\"ticks\":\"\",\"zerolinecolor\":\"white\",\"gridwidth\":2},\"zaxis\":{\"backgroundcolor\":\"#E5ECF6\",\"gridcolor\":\"white\",\"linecolor\":\"white\",\"showbackground\":true,\"ticks\":\"\",\"zerolinecolor\":\"white\",\"gridwidth\":2}},\"shapedefaults\":{\"line\":{\"color\":\"#2a3f5f\"}},\"annotationdefaults\":{\"arrowcolor\":\"#2a3f5f\",\"arrowhead\":0,\"arrowwidth\":1},\"geo\":{\"bgcolor\":\"white\",\"landcolor\":\"#E5ECF6\",\"subunitcolor\":\"white\",\"showland\":true,\"showlakes\":true,\"lakecolor\":\"white\"},\"title\":{\"x\":0.05},\"mapbox\":{\"style\":\"light\"}}},\"scene\":{\"domain\":{\"x\":[0.0,1.0],\"y\":[0.0,1.0]},\"xaxis\":{\"title\":{\"text\":\"0\"}},\"yaxis\":{\"title\":{\"text\":\"1\"}},\"zaxis\":{\"title\":{\"text\":\"2\"}}},\"legend\":{\"title\":{\"text\":\"color\"},\"tracegroupgap\":0},\"margin\":{\"t\":60}},                        {\"responsive\": true}                    ).then(function(){\n",
       "                            \n",
       "var gd = document.getElementById('19feab61-734a-4e96-8edf-53d45d148498');\n",
       "var x = new MutationObserver(function (mutations, observer) {{\n",
       "        var display = window.getComputedStyle(gd).display;\n",
       "        if (!display || display === 'none') {{\n",
       "            console.log([gd, 'removed!']);\n",
       "            Plotly.purge(gd);\n",
       "            observer.disconnect();\n",
       "        }}\n",
       "}});\n",
       "\n",
       "// Listen for the removal of the full notebook cells\n",
       "var notebookContainer = gd.closest('#notebook-container');\n",
       "if (notebookContainer) {{\n",
       "    x.observe(notebookContainer, {childList: true});\n",
       "}}\n",
       "\n",
       "// Listen for the clearing of the current output cell\n",
       "var outputEl = gd.closest('.output');\n",
       "if (outputEl) {{\n",
       "    x.observe(outputEl, {childList: true});\n",
       "}}\n",
       "\n",
       "                        })                };                });            </script>        </div>"
      ]
     },
     "metadata": {},
     "output_type": "display_data"
    }
   ],
   "source": [
    "import plotly.express as plot\n",
    "\n",
    "fig = plot.scatter_3d(X[:100], x=0, y=1, z=2, color=y[:100])\n",
    "fig.show()"
   ]
  },
  {
   "cell_type": "code",
   "execution_count": null,
   "id": "7669c035",
   "metadata": {},
   "outputs": [],
   "source": []
  }
 ],
 "metadata": {
  "kernelspec": {
   "display_name": "Python 3 (ipykernel)",
   "language": "python",
   "name": "python3"
  },
  "language_info": {
   "codemirror_mode": {
    "name": "ipython",
    "version": 3
   },
   "file_extension": ".py",
   "mimetype": "text/x-python",
   "name": "python",
   "nbconvert_exporter": "python",
   "pygments_lexer": "ipython3",
   "version": "3.10.9"
  }
 },
 "nbformat": 4,
 "nbformat_minor": 5
}
